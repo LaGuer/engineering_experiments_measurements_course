{
 "cells": [
  {
   "cell_type": "code",
   "execution_count": 1,
   "metadata": {
    "collapsed": false
   },
   "outputs": [
    {
     "name": "stdout",
     "output_type": "stream",
     "text": [
      "c= [12.547493403438263, 20.600666549348425, 20.925963263707068, 34.96745462574864, 35.86107165882805, 52.69987196781741]\n",
      "T= [87.18490963248367, 77.24414669477086, 84.95747649239843, 63.30207039356456, 66.23702248506865, 54.63303906190803]\n"
     ]
    }
   ],
   "source": [
    "from random import random\n",
    "\n",
    "c = []\n",
    "w = []\n",
    "T = []\n",
    "k = random()*0.05\n",
    "b = random()*0.002\n",
    "\n",
    "for i in range(6):\n",
    "    c.append(random()*55)\n",
    "    w.append(random()*10)\n",
    "\n",
    "c.sort()\n",
    "\n",
    "print 'c=',c\n",
    "\n",
    "T = []\n",
    "for i in range(6):\n",
    "    T.append(100*10**(-(c[i]*k + b))+ w[i])\n",
    "\n",
    "\n",
    "print 'T=',T"
   ]
  },
  {
   "cell_type": "code",
   "execution_count": 3,
   "metadata": {
    "collapsed": false
   },
   "outputs": [
    {
     "data": {
      "text/plain": [
       "<matplotlib.text.Text at 0xf9d4290>"
      ]
     },
     "execution_count": 3,
     "metadata": {},
     "output_type": "execute_result"
    },
    {
     "data": {
      "image/png": "[encoded data removed]",
      "text/plain": [
       "<matplotlib.figure.Figure at 0xf9c5890>"
      ]
     },
     "metadata": {},
     "output_type": "display_data"
    }
   ],
   "source": [
    "import matplotlib.pyplot as plt\n",
    "%matplotlib inline\n",
    "plt.plot(c,T,'o',markersize=10)\n",
    "plt.xlabel('c',fontsize=14)\n",
    "plt.ylabel('T',fontsize=14)"
   ]
  },
  {
   "cell_type": "code",
   "execution_count": null,
   "metadata": {
    "collapsed": false
   },
   "outputs": [],
   "source": []
  }
 ],
 "metadata": {
  "kernelspec": {
   "display_name": "Python 2",
   "language": "python",
   "name": "python2"
  },
  "language_info": {
   "codemirror_mode": {
    "name": "ipython",
    "version": 2
   },
   "file_extension": ".py",
   "mimetype": "text/x-python",
   "name": "python",
   "nbconvert_exporter": "python",
   "pygments_lexer": "ipython2",
   "version": "2.7.6"
  }
 },
 "nbformat": 4,
 "nbformat_minor": 0
}
