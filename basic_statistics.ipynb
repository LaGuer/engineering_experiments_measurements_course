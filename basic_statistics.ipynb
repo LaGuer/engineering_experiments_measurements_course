{
 "cells": [
  {
   "cell_type": "markdown",
   "metadata": {},
   "source": [
    "## Exercise 1: Statistical measures of a small sample"
   ]
  },
  {
   "cell_type": "code",
   "execution_count": 1,
   "metadata": {
    "collapsed": false
   },
   "outputs": [
    {
     "name": "stdout",
     "output_type": "stream",
     "text": [
      "Populating the interactive namespace from numpy and matplotlib\n"
     ]
    },
    {
     "data": {
      "image/png": "[encoded data removed]",
      "text/plain": [
       "<matplotlib.figure.Figure at 0x103f23690>"
      ]
     },
     "metadata": {},
     "output_type": "display_data"
    }
   ],
   "source": [
    "% pylab inline\n",
    "\n",
    "x = array([12.1,12.3,12.2,12.2,12.4,12.3,12.2,12.4,12.2,12.5])\n",
    "# show the histogram\n",
    "x_modes = hist(x)"
   ]
  },
  {
   "cell_type": "code",
   "execution_count": 2,
   "metadata": {
    "collapsed": false
   },
   "outputs": [
    {
     "name": "stdout",
     "output_type": "stream",
     "text": [
      "Data:\n",
      "[ 12.1  12.3  12.2  12.2  12.4  12.3  12.2  12.4  12.2  12.5]\n",
      "Mean: 12.280000 \n",
      "Median: 12.250000\n",
      "Variance: 0.013600\n",
      "STD: 0.116619 \n",
      "Mode of x 12.200000 appears 4 times\n"
     ]
    }
   ],
   "source": [
    "x_mode_ind = argmax(x_modes[0])\n",
    "x_mode_count = x_modes[0][x_mode_ind]\n",
    "x_mode_val = x[x_mode_ind]\n",
    "print \"Data:\"; print x\n",
    "print \"Mean: %f \" % mean(x)\n",
    "print \"Median: %f\" % median(x)\n",
    "print \"Variance: %f\" % var(x)\n",
    "print \"STD: %f \" % std(x)\n",
    "print \"Mode of x %f appears %d times\" % (x_mode_val,x_mode_count)"
   ]
  }
 ],
 "metadata": {
  "kernelspec": {
   "display_name": "Python 2",
   "language": "python",
   "name": "python2"
  },
  "language_info": {
   "codemirror_mode": {
    "name": "ipython",
    "version": 2
   },
   "file_extension": ".py",
   "mimetype": "text/x-python",
   "name": "python",
   "nbconvert_exporter": "python",
   "pygments_lexer": "ipython2",
   "version": "2.7.11"
  }
 },
 "nbformat": 4,
 "nbformat_minor": 0
}
