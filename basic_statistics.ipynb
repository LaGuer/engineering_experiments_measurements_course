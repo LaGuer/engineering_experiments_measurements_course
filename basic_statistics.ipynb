{
 "metadata": {
  "name": "",
  "signature": "sha256:bddee24d5fc61501efdee97a36d002873e8ebc7ba205b77606049423ce820d17"
 },
 "nbformat": 3,
 "nbformat_minor": 0,
 "worksheets": [
  {
   "cells": [
    {
     "cell_type": "code",
     "collapsed": false,
     "input": [
      "\"\"\" Exercise 1\n",
      "Statistical measures of a small sample\n",
      "\"\"\"\n",
      "from pylab import *\n",
      "\n",
      "x = array([12.1,12.3,12.2,12.2,12.4,12.3,12.2,12.4,12.2,12.5])\n",
      "x_mean = mean(x)\n",
      "x_median = median(x)\n",
      "x_variance = var(x)\n",
      "x_std = std(x)\n",
      "x_modes = hist(x)\n",
      "show()\n",
      "x_mode_ind = argmax(x_modes[0])\n",
      "x_mode_count = x_modes[0][x_mode_ind]\n",
      "x_mode_val = x[x_mode_ind]\n",
      "print \"Data:\"; print x\n",
      "print \"Mean: %f \" % x_mean\n",
      "print \"Median: %f\" % x_median\n",
      "print \"Variance: %f\" % x_variance\n",
      "print \"STD: %f \" % x_std\n",
      "print \"Mode of x %f appears %d times\" % (x_mode_val,x_mode_count)"
     ],
     "language": "python",
     "metadata": {},
     "outputs": [
      {
       "metadata": {},
       "output_type": "display_data",
       "png": "[encoded data removed]",
       "text": [
        "<matplotlib.figure.Figure at 0x7f0a9419e6d0>"
       ]
      },
      {
       "output_type": "stream",
       "stream": "stdout",
       "text": [
        "Data:\n",
        "[ 12.1  12.3  12.2  12.2  12.4  12.3  12.2  12.4  12.2  12.5]\n",
        "Mean: 12.280000 \n",
        "Median: 12.250000\n",
        "Variance: 0.013600\n",
        "STD: 0.116619 \n",
        "Mode of x 12.200000 appears 4 times\n"
       ]
      }
     ],
     "prompt_number": 1
    },
    {
     "cell_type": "code",
     "collapsed": false,
     "input": [],
     "language": "python",
     "metadata": {},
     "outputs": []
    }
   ],
   "metadata": {}
  }
 ]
}