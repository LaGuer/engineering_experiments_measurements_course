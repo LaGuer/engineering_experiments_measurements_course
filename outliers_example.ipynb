{
 "metadata": {
  "name": "outliers_example"
 },
 "nbformat": 3,
 "nbformat_minor": 0,
 "worksheets": [
  {
   "cells": [
    {
     "cell_type": "markdown",
     "metadata": {},
     "source": [
      "#Outliers \n",
      "\n",
      "## example of outlier test using modified Thompson technique\n"
     ]
    },
    {
     "cell_type": "code",
     "collapsed": false,
     "input": [
      "x = array([49.2,50.1,49.3,50.2, 50.7,49.3,49.8,48.9,49.2,49.9])\n",
      "plot(arange(1,11),x,'o'),xlim([0,11]),xlabel(' n points'),ylabel('recording [a.u.]')"
     ],
     "language": "python",
     "metadata": {},
     "outputs": [
      {
       "output_type": "pyout",
       "prompt_number": 174,
       "text": [
        "([<matplotlib.lines.Line2D at 0xb0a1f30>],\n",
        " (0, 11),\n",
        " <matplotlib.text.Text at 0x9dc5b30>,\n",
        " <matplotlib.text.Text at 0xb0870f0>)"
       ]
      },
      {
       "output_type": "display_data",
       "png": "[encoded data removed]"
      }
     ],
     "prompt_number": 174
    },
    {
     "cell_type": "markdown",
     "metadata": {},
     "source": [
      "### is there an outlier? \n",
      "Sort, look at the lowest and largest and plot to visualize "
     ]
    },
    {
     "cell_type": "code",
     "collapsed": false,
     "input": [
      "# Sort\n",
      "x = sort(x)\n",
      "print x\n"
     ],
     "language": "python",
     "metadata": {},
     "outputs": [
      {
       "output_type": "stream",
       "stream": "stdout",
       "text": [
        "[ 48.9  49.2  49.2  49.3  49.3  49.8  49.9  50.1  50.2  50.7]\n"
       ]
      }
     ],
     "prompt_number": 175
    },
    {
     "cell_type": "code",
     "collapsed": false,
     "input": [
      "plot(arange(2,10),x[1:-1],'o'), plot(1,x[0],'rs',markersize=10,linewidth=2),plot(10,x[-1],'gs',markersize=10)\n",
      "xlim([0,11])\n",
      "xlabel(' sorted n points'),ylabel('sorted recording [a.u.]')"
     ],
     "language": "python",
     "metadata": {},
     "outputs": [
      {
       "output_type": "pyout",
       "prompt_number": 176,
       "text": [
        "(<matplotlib.text.Text at 0xb15f990>, <matplotlib.text.Text at 0xb169830>)"
       ]
      },
      {
       "output_type": "display_data",
       "png": "[encoded data removed]"
      }
     ],
     "prompt_number": 176
    },
    {
     "cell_type": "code",
     "collapsed": false,
     "input": [
      "# the sample mean and standard deviation\n",
      "meanx = mean(x)\n",
      "stdx = std(x,ddof=1)\n",
      "print 'mean = %6.2f,  std = %6.2f' % (meanx,stdx)"
     ],
     "language": "python",
     "metadata": {},
     "outputs": [
      {
       "output_type": "stream",
       "stream": "stdout",
       "text": [
        "mean =  49.66,  std =   0.57\n"
       ]
      }
     ],
     "prompt_number": 177
    },
    {
     "cell_type": "code",
     "collapsed": false,
     "input": [
      "# defivations for each suspicious point, take the largest deviation:\n",
      "delta = abs(x - meanx)\n",
      "print delta\n",
      "print 'suspicious point is:',  argmax(delta), 'its deviation is =', max(delta)"
     ],
     "language": "python",
     "metadata": {},
     "outputs": [
      {
       "output_type": "stream",
       "stream": "stdout",
       "text": [
        "[ 0.76  0.46  0.46  0.36  0.36  0.14  0.24  0.44  0.54  1.04]\n",
        "suspicious point is: 9 its deviation is = 1.04\n"
       ]
      }
     ],
     "prompt_number": 178
    },
    {
     "cell_type": "markdown",
     "metadata": {},
     "source": [
      "### modified Thompson technique, $\\tau$\n",
      "$$ \\tau = \\frac{t_{\\alpha/2} (n-1)}{\\sqrt{n} \\sqrt{n-2+t_{\\alpha/2}^2}}, \\qquad \\alpha = 0.05, \\quad df = n - 2 $$\n",
      "\n",
      "if $\\delta_i  > \\tau S$ the point is outlier: remove it, estimate new $\\bar{x}, S, \\delta_i$ and repeat the check. "
     ]
    },
    {
     "cell_type": "code",
     "collapsed": false,
     "input": [
      "from scipy.stats import t\n",
      "\n",
      "\n",
      "n = len(x)\n",
      "tv =  t.isf(0.05/2,n-2)\n",
      "tau = tv*(n-1)/(sqrt(n)*sqrt(n-2+tv**2))\n",
      "\n",
      "print 'n = %d, t = %6.4f, tau = %6.4f' % (n,tv,tau)\n",
      "\n",
      "print 'compare: %6.3f vs. %6.3f ' % (max(delta), tau*stdx)\n",
      "print max(delta) > tau*stdx \n",
      "\n"
     ],
     "language": "python",
     "metadata": {},
     "outputs": [
      {
       "output_type": "stream",
       "stream": "stdout",
       "text": [
        "n = 10, t = 2.3060, tau = 1.7984\n",
        "compare:  1.040 vs.  1.022 \n",
        "True\n"
       ]
      }
     ],
     "prompt_number": 179
    },
    {
     "cell_type": "code",
     "collapsed": false,
     "input": [
      "# new data is less one point\n",
      "x = x[:-1]\n",
      "meanx = mean(x)\n",
      "stdx = std(x,ddof=1)\n",
      "print x\n",
      "print 'mean = %6.2f,  std = %6.2f' % (meanx,stdx)\n",
      "\n",
      "# new deviations\n",
      "delta = abs(x - meanx)\n",
      "print delta\n",
      "print 'suspicious point is:',  argmax(delta), 'its deviation is =', max(delta)\n",
      "\n",
      "# new \\tau test\n",
      "n = len(x)\n",
      "tv =  t.isf(0.05/2,n-2)\n",
      "tau = tv*(n-1)/(sqrt(n)*sqrt(n-2+tv**2))\n",
      "\n",
      "print 'n = %d, t = %6.4f, tau = %6.4f' % (n,tv,tau)\n",
      "\n",
      "print 'compare: %6.3f vs. %6.3f ' % (max(delta), tau*stdx)\n",
      "print max(delta) > tau*stdx "
     ],
     "language": "python",
     "metadata": {},
     "outputs": [
      {
       "output_type": "stream",
       "stream": "stdout",
       "text": [
        "[ 48.9  49.2  49.2  49.3  49.3  49.8  49.9  50.1  50.2]\n",
        "mean =  49.54,  std =   0.46\n",
        "[ 0.64444444  0.34444444  0.34444444  0.24444444  0.24444444  0.25555556\n",
        "  0.35555556  0.55555556  0.65555556]\n",
        "suspicious point is: 8 its deviation is = 0.655555555556\n",
        "n = 9, t = 2.3646, tau = 1.7770\n",
        "compare:  0.656 vs.  0.820 \n",
        "False\n"
       ]
      }
     ],
     "prompt_number": 180
    },
    {
     "cell_type": "code",
     "collapsed": false,
     "input": [],
     "language": "python",
     "metadata": {},
     "outputs": [],
     "prompt_number": 180
    }
   ],
   "metadata": {}
  }
 ]
}