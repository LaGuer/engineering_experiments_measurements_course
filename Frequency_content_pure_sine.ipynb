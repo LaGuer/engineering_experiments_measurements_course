{
 "cells": [
  {
   "cell_type": "code",
   "execution_count": 2,
   "metadata": {
    "collapsed": false
   },
   "outputs": [],
   "source": [
    "## Frequency content of a sine\n",
    "### the effect of the truncation and integer number of periods"
   ]
  },
  {
   "cell_type": "code",
   "execution_count": null,
   "metadata": {
    "collapsed": false
   },
   "outputs": [],
   "source": [
    "import numpy as np\n",
    "import matplotlib.pyplot as plt\n",
    "%matplotlib inline\n",
    "\n",
    "# redefine default figure size and fonts\n",
    "import matplotlib as mpl\n",
    "mpl.rc('text', usetex = True)\n",
    "mpl.rc('font', family = 'serif',size=14)\n",
    "mpl.rc('figure',figsize=(10,8))"
   ]
  },
  {
   "cell_type": "code",
   "execution_count": null,
   "metadata": {
    "collapsed": false
   },
   "outputs": [],
   "source": [
    "fs = 200.0 #Hz\n",
    "N = 256 # points\n",
    "T = N/fs # 256/200Hz = 1.28s\n",
    "t = np.arange(0.0,T,T/N)\n",
    "y = 1.0*np.sin(2*np.pi*10*t) # 10 Hz pure sine wave of -1 to 1 Volt\n",
    "plt.plot(t,y,'b:x')\n",
    "plt.xlabel('Time [sec]')\n",
    "plt.ylabel('Voltage [V]')\n",
    "plt.axes().set_aspect(0.15)"
   ]
  },
  {
   "cell_type": "code",
   "execution_count": null,
   "metadata": {
    "collapsed": false
   },
   "outputs": [],
   "source": [
    "df =1.0/T # 1/1.28s = 0.781 Hz\n",
    "# create frequency axis\n",
    "freq = np.arange(0.0,fs/2,df) \n",
    "\n",
    "# Apply FFT\n",
    "sp = np.fft.fft(y)\n",
    "# Use the result\n",
    "# use modulus and the first half only\n",
    "F = abs(sp[:freq.shape[0]])\n",
    "# divide each amplitude by (N/2) so that corrected one corresponds to the \n",
    "# amplitude of the signal \n",
    "F = abs(F)/(N/2)\n",
    "# also divide the first (f = 0Hz) by 2 to correspond properly to the DC offset\n",
    "F[0] = F[0]/2.0\n",
    "\n",
    "plt.figure()\n",
    "plt.plot(freq, F) \n",
    "plt.axes().set_aspect('auto')\n",
    "plt.xlabel('Frequency [Hz]')\n",
    "plt.ylabel('Spectrum amplitude [V]')"
   ]
  },
  {
   "cell_type": "code",
   "execution_count": null,
   "metadata": {
    "collapsed": false
   },
   "outputs": [],
   "source": [
    "# Let us try to minimize the leakage problem\n",
    "fs = 1000.0 #Hz\n",
    "N = 256 # points\n",
    "T = N/fs\n",
    "t = np.arange(0.0,T,T/N)\n",
    "y = 1.0*np.sin(2*np.pi*10*t) # 10 Hz pure sine wave of -1 to 1 Volt\n",
    "plt.figure()\n",
    "plt.plot(t,y,'b-o')\n",
    "plt.xlabel('Time [sec]')\n",
    "plt.ylabel('Voltage [V]')\n",
    "plt.axes().set_aspect(0.05)\n",
    "plt.savefig('.')\n",
    "\n",
    "# now repeat the spectral analysis\n",
    "df =1.0/T # 1/1.28s = 0.781 Hz\n",
    "# create frequency axis\n",
    "freq = np.arange(0.0,fs/2,df) \n",
    "\n",
    "# Apply FFT\n",
    "sp = np.fft.fft(y)\n",
    "# Use the result\n",
    "# use modulus and the first half only\n",
    "F = abs(sp[:freq.shape[0]])\n",
    "# divide each amplitude by (N/2) so that corrected one corresponds to the \n",
    "# amplitude of the signal \n",
    "F = abs(F)/(N/2)\n",
    "# also divide the first (f = 0Hz) by 2 to correspond properly to the DC offset\n",
    "F[0] = F[0]/2.0\n",
    "\n",
    "plt.figure()\n",
    "plt.plot(freq, F) \n",
    "plt.axes().set_aspect('auto')\n",
    "plt.xlabel('Frequency [Hz]')\n",
    "plt.ylabel('Spectrum amplitude [V]')"
   ]
  },
  {
   "cell_type": "code",
   "execution_count": null,
   "metadata": {
    "collapsed": false
   },
   "outputs": [],
   "source": []
  },
  {
   "cell_type": "code",
   "execution_count": null,
   "metadata": {
    "collapsed": false
   },
   "outputs": [],
   "source": []
  }
 ],
 "metadata": {
  "kernelspec": {
   "display_name": "Python 2",
   "language": "python",
   "name": "python2"
  },
  "language_info": {
   "codemirror_mode": {
    "name": "ipython",
    "version": 2
   },
   "file_extension": ".py",
   "mimetype": "text/x-python",
   "name": "python",
   "nbconvert_exporter": "python",
   "pygments_lexer": "ipython2",
   "version": "2.7.6"
  }
 },
 "nbformat": 4,
 "nbformat_minor": 0
}
