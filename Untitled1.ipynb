{
 "metadata": {
  "name": "",
  "signature": "sha256:e5b639309cdedd5106dc831ec6ba25b9bf91175ea77d583526f79fba3e559593"
 },
 "nbformat": 3,
 "nbformat_minor": 0,
 "worksheets": [
  {
   "cells": [
    {
     "cell_type": "code",
     "collapsed": false,
     "input": [],
     "language": "python",
     "metadata": {},
     "outputs": []
    }
   ],
   "metadata": {}
  }
 ]
}