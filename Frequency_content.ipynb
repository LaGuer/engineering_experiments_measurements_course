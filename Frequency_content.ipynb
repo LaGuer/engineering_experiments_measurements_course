{
 "cells": [
  {
   "cell_type": "markdown",
   "metadata": {},
   "source": [
    "# Using FFT to discover the right spectrum of the incoming signal \n"
   ]
  },
  {
   "cell_type": "code",
   "execution_count": 1,
   "metadata": {
    "collapsed": false
   },
   "outputs": [
    {
     "name": "stdout",
     "output_type": "stream",
     "text": [
      "Populating the interactive namespace from numpy and matplotlib\n"
     ]
    }
   ],
   "source": [
    "%pylab inline\n",
    "# import numpy as np\n",
    "# from scipy import fft\n",
    "from __future__ import division\n",
    "\n",
    "# redefine default figure size and fonts\n",
    "import matplotlib as mpl\n",
    "mpl.rc('text', usetex = True)\n",
    "mpl.rc('font', family = 'serif',size=14)\n",
    "mpl.rc('figure',figsize=(10,8))\n",
    "\n"
   ]
  },
  {
   "cell_type": "markdown",
   "metadata": {},
   "source": [
    "## Two basic ploting functions that repeat the actuall spectral analysis:"
   ]
  },
  {
   "cell_type": "code",
   "execution_count": 2,
   "metadata": {
    "collapsed": false
   },
   "outputs": [],
   "source": [
    "def spectrum(y,Fs):\n",
    "    \"\"\"\n",
    "    Plots a Single-Sided Amplitude Spectrum of a sampled\n",
    "    signal y(t), sampling frequency Fs (lenght of a signal \n",
    "    provides the number of samples recorded)\n",
    "    \n",
    "    Following: http://goo.gl/wRoUn\n",
    "    \"\"\"\n",
    "    n = len(y) # length of the signal\n",
    "    k = arange(n)\n",
    "    T = n/Fs\n",
    "    frq = k/T # two sides frequency range\n",
    "    frq = frq[range(np.int(n/2))] # one side frequency range\n",
    "    Y = 2*fft(y)/n # fft computing and normalization\n",
    "    Y = Y[range(np.int(n/2))]\n",
    "    return (frq, Y)\n",
    "\n",
    "# import signal generator\n",
    "from create_signal import create_signal\n",
    "\n",
    "def plotSignal(fs,N):\n",
    "    \"\"\" plots the time signal Y(t) and the \n",
    "    frequency spectrum Y(fs)\n",
    "    Inputs:\n",
    "        fs - sampling frequency in Hz\n",
    "        N  - total number of sample points, length of a sample\n",
    "    Outputs:\n",
    "        t - time signal, [sec]\n",
    "        Y - values, [Volt]\n",
    "    Usage:\n",
    "        plotSignal(fs=30,N=256)\n",
    "    \"\"\"\n",
    "    t,y = create_signal(fs,N)\n",
    "    y = y - np.mean(y)\n",
    "    frq,Y = spectrum(y,fs) \n",
    "    \n",
    "    # Plot\n",
    "    figure()\n",
    "    subplot(2,1,1)\n",
    "    plot(t,y,'b-')\n",
    "    xlabel('$t$ [s]')\n",
    "    ylabel('$Y$ [V]')\n",
    "    # axes().set_aspect(0.2)\n",
    "    # title('sampled signal')\n",
    "    subplot(2,1,2)\n",
    "    plot(frq,abs(Y),'r') # plotting the spectrum\n",
    "    xlabel('$f$ (Hz)')\n",
    "    ylabel('$|Y(f)|$')\n",
    "    \n",
    "    return t,y"
   ]
  },
  {
   "cell_type": "code",
   "execution_count": 3,
   "metadata": {
    "collapsed": false
   },
   "outputs": [],
   "source": [
    "# %loadpy create_signal"
   ]
  },
  {
   "cell_type": "code",
   "execution_count": 4,
   "metadata": {
    "collapsed": false
   },
   "outputs": [],
   "source": [
    "from numpy.random import normal\n",
    "# create signal\n",
    "def create_signal(fs,N):\n",
    "    \"\"\" create signal with gaussian noise\"\"\"\n",
    "    dt = 1/fs\n",
    "    t = np.linspace(0,N*dt,N)\n",
    "    # print t\n",
    "    y = 1.0*np.sin(2*np.pi*10*t) + 1.5*np.sin(2*np.pi*35.7*t)\n",
    "    # print y\n",
    "    noise = normal(0,1,N)\n",
    "    # print noise\n",
    "    sig=y+noise\n",
    "    # print sig\n",
    "    return t,sig\n",
    "\n"
   ]
  },
  {
   "cell_type": "markdown",
   "metadata": {},
   "source": [
    "## Let's sample 256 points at 30 Hz"
   ]
  },
  {
   "cell_type": "code",
   "execution_count": 5,
   "metadata": {
    "collapsed": false
   },
   "outputs": [
    {
     "ename": "TypeError",
     "evalue": "'module' object is not callable",
     "output_type": "error",
     "traceback": [
      "\u001b[0;31m---------------------------------------------------------------------------\u001b[0m",
      "\u001b[0;31mTypeError\u001b[0m                                 Traceback (most recent call last)",
      "\u001b[0;32m<ipython-input-5-021fd7605b80>\u001b[0m in \u001b[0;36m<module>\u001b[0;34m()\u001b[0m\n\u001b[1;32m      1\u001b[0m \u001b[0mfs\u001b[0m \u001b[0;34m=\u001b[0m \u001b[0;36m30\u001b[0m \u001b[0;31m# sampling frequency, Hz\u001b[0m\u001b[0;34m\u001b[0m\u001b[0m\n\u001b[1;32m      2\u001b[0m \u001b[0mN\u001b[0m \u001b[0;34m=\u001b[0m \u001b[0;36m256\u001b[0m \u001b[0;31m# number of sampling points\u001b[0m\u001b[0;34m\u001b[0m\u001b[0m\n\u001b[0;32m----> 3\u001b[0;31m \u001b[0mplotSignal\u001b[0m\u001b[0;34m(\u001b[0m\u001b[0mfs\u001b[0m\u001b[0;34m,\u001b[0m\u001b[0mN\u001b[0m\u001b[0;34m)\u001b[0m\u001b[0;34m\u001b[0m\u001b[0m\n\u001b[0m\u001b[1;32m      4\u001b[0m \u001b[0mt\u001b[0m\u001b[0;34m,\u001b[0m\u001b[0my\u001b[0m \u001b[0;34m=\u001b[0m \u001b[0mcreate_signal\u001b[0m\u001b[0;34m(\u001b[0m\u001b[0mfs\u001b[0m\u001b[0;34m,\u001b[0m\u001b[0mN\u001b[0m\u001b[0;34m)\u001b[0m\u001b[0;34m\u001b[0m\u001b[0m\n\u001b[1;32m      5\u001b[0m \u001b[0;31m# sampling time\u001b[0m\u001b[0;34m\u001b[0m\u001b[0;34m\u001b[0m\u001b[0m\n",
      "\u001b[0;32m<ipython-input-2-77e0f175e388>\u001b[0m in \u001b[0;36mplotSignal\u001b[0;34m(fs, N)\u001b[0m\n\u001b[1;32m     33\u001b[0m     \u001b[0mt\u001b[0m\u001b[0;34m,\u001b[0m\u001b[0my\u001b[0m \u001b[0;34m=\u001b[0m \u001b[0mcreate_signal\u001b[0m\u001b[0;34m(\u001b[0m\u001b[0mfs\u001b[0m\u001b[0;34m,\u001b[0m\u001b[0mN\u001b[0m\u001b[0;34m)\u001b[0m\u001b[0;34m\u001b[0m\u001b[0m\n\u001b[1;32m     34\u001b[0m     \u001b[0my\u001b[0m \u001b[0;34m=\u001b[0m \u001b[0my\u001b[0m \u001b[0;34m-\u001b[0m \u001b[0mnp\u001b[0m\u001b[0;34m.\u001b[0m\u001b[0mmean\u001b[0m\u001b[0;34m(\u001b[0m\u001b[0my\u001b[0m\u001b[0;34m)\u001b[0m\u001b[0;34m\u001b[0m\u001b[0m\n\u001b[0;32m---> 35\u001b[0;31m     \u001b[0mfrq\u001b[0m\u001b[0;34m,\u001b[0m\u001b[0mY\u001b[0m \u001b[0;34m=\u001b[0m \u001b[0mspectrum\u001b[0m\u001b[0;34m(\u001b[0m\u001b[0my\u001b[0m\u001b[0;34m,\u001b[0m\u001b[0mfs\u001b[0m\u001b[0;34m)\u001b[0m\u001b[0;34m\u001b[0m\u001b[0m\n\u001b[0m\u001b[1;32m     36\u001b[0m \u001b[0;34m\u001b[0m\u001b[0m\n\u001b[1;32m     37\u001b[0m     \u001b[0;31m# Plot\u001b[0m\u001b[0;34m\u001b[0m\u001b[0;34m\u001b[0m\u001b[0m\n",
      "\u001b[0;32m<ipython-input-2-77e0f175e388>\u001b[0m in \u001b[0;36mspectrum\u001b[0;34m(y, Fs)\u001b[0m\n\u001b[1;32m     12\u001b[0m     \u001b[0mfrq\u001b[0m \u001b[0;34m=\u001b[0m \u001b[0mk\u001b[0m\u001b[0;34m/\u001b[0m\u001b[0mT\u001b[0m \u001b[0;31m# two sides frequency range\u001b[0m\u001b[0;34m\u001b[0m\u001b[0m\n\u001b[1;32m     13\u001b[0m     \u001b[0mfrq\u001b[0m \u001b[0;34m=\u001b[0m \u001b[0mfrq\u001b[0m\u001b[0;34m[\u001b[0m\u001b[0mrange\u001b[0m\u001b[0;34m(\u001b[0m\u001b[0mnp\u001b[0m\u001b[0;34m.\u001b[0m\u001b[0mint\u001b[0m\u001b[0;34m(\u001b[0m\u001b[0mn\u001b[0m\u001b[0;34m/\u001b[0m\u001b[0;36m2\u001b[0m\u001b[0;34m)\u001b[0m\u001b[0;34m)\u001b[0m\u001b[0;34m]\u001b[0m \u001b[0;31m# one side frequency range\u001b[0m\u001b[0;34m\u001b[0m\u001b[0m\n\u001b[0;32m---> 14\u001b[0;31m     \u001b[0mY\u001b[0m \u001b[0;34m=\u001b[0m \u001b[0;36m2\u001b[0m\u001b[0;34m*\u001b[0m\u001b[0mfft\u001b[0m\u001b[0;34m(\u001b[0m\u001b[0my\u001b[0m\u001b[0;34m)\u001b[0m\u001b[0;34m/\u001b[0m\u001b[0mn\u001b[0m \u001b[0;31m# fft computing and normalization\u001b[0m\u001b[0;34m\u001b[0m\u001b[0m\n\u001b[0m\u001b[1;32m     15\u001b[0m     \u001b[0mY\u001b[0m \u001b[0;34m=\u001b[0m \u001b[0mY\u001b[0m\u001b[0;34m[\u001b[0m\u001b[0mrange\u001b[0m\u001b[0;34m(\u001b[0m\u001b[0mnp\u001b[0m\u001b[0;34m.\u001b[0m\u001b[0mint\u001b[0m\u001b[0;34m(\u001b[0m\u001b[0mn\u001b[0m\u001b[0;34m/\u001b[0m\u001b[0;36m2\u001b[0m\u001b[0;34m)\u001b[0m\u001b[0;34m)\u001b[0m\u001b[0;34m]\u001b[0m\u001b[0;34m\u001b[0m\u001b[0m\n\u001b[1;32m     16\u001b[0m     \u001b[0;32mreturn\u001b[0m \u001b[0;34m(\u001b[0m\u001b[0mfrq\u001b[0m\u001b[0;34m,\u001b[0m \u001b[0mY\u001b[0m\u001b[0;34m)\u001b[0m\u001b[0;34m\u001b[0m\u001b[0m\n",
      "\u001b[0;31mTypeError\u001b[0m: 'module' object is not callable"
     ]
    }
   ],
   "source": [
    "fs = 30 # sampling frequency, Hz\n",
    "N = 256 # number of sampling points\n",
    "plotSignal(fs,N)\n",
    "t,y = create_signal(fs,N)\n",
    "# sampling time\n",
    "T = t[-1] - t[0]\n",
    "print 'Sampling time T =%6.3f sec' % T\n",
    "# Number of points\n",
    "N = len(t)\n",
    "print 'Number of samples N = %d' % N\n",
    "# sampling frequency \n",
    "fs  = N/T\n",
    "print 'Sampling frequency fs = %6.3f Hz' % fs"
   ]
  },
  {
   "cell_type": "markdown",
   "metadata": {},
   "source": [
    "## Sample at higher fs, but not INTERGER times higher"
   ]
  },
  {
   "cell_type": "code",
   "execution_count": null,
   "metadata": {
    "collapsed": false
   },
   "outputs": [],
   "source": [
    "plotSignal(66,256)"
   ]
  },
  {
   "cell_type": "code",
   "execution_count": null,
   "metadata": {
    "collapsed": false
   },
   "outputs": [],
   "source": [
    "fs = 66; N = 256\n",
    "t,y = create_signal(fs,N)\n",
    "frq,Y = spectrum(y,fs)\n",
    "max(abs(Y)), frq[argmax(abs(Y))]"
   ]
  },
  {
   "cell_type": "markdown",
   "metadata": {},
   "source": [
    "## There is a problem with the previous sampling \n",
    "\n",
    "The 5.7 Hz peak is replaced now by approximately 30 Hz peak. We sampled at 66 Hz, so 30 Hz is below Nyquist and all seems to be fine\n",
    "But we know that if the right frequency is 30.3 or 30.15 Hz, then when we sampled at 30 Hz we should get: |30.3 - 30] = .3 Hz.\n",
    "We got 5.7 Hz, so it cannot be that 30.3 is correct, or at least we have some discrepancy here. \n",
    "Let's do get even higher sampling frequency: fs = 100 Hz it is not X times 66 "
   ]
  },
  {
   "cell_type": "code",
   "execution_count": null,
   "metadata": {
    "collapsed": false
   },
   "outputs": [],
   "source": [
    "fs = 100; N = 256\n",
    "t,y = create_signal(fs,N)\n",
    "frq,Y = spectrum(y,fs)\n",
    "plotSignal(fs,N)\n",
    "print max(abs(Y[1:])), frq[argmax(abs(Y[1:]))]\n"
   ]
  },
  {
   "cell_type": "markdown",
   "metadata": {},
   "source": [
    "## So the problem is still there:\n",
    "the peak is now shifted to 35.5 Hz, let's see: when we sampled at 30 we got aliased 35.5 - 30 = 5.5 Hz. Seems correct,\n",
    "when we sampled at 66 it was above 2/3*f but below 2*f, so 66 - 35.5 = 30.5 Hz, also seem to fit. So now we have explained (!)\n",
    "the previous results and we believe that hte signal has 10 Hz and 35.5 Hz (approximately) and 100 Hz is good enough\n",
    "but we could improve it by going slightly above Nyquist 2*35.5 = 71 Hz, and also try to fix the number of points such that\n",
    "we get integer number of periods. It's imposible since we have two frequencies, but at least we can try to get it close\n",
    "enough: 1/10 = 0.1 sec so we could do 256 * 0.1 = 25.6 Hz or X times that = 25.6 * 3 = 102.4 - could be too close\n",
    "let's try:"
   ]
  },
  {
   "cell_type": "code",
   "execution_count": null,
   "metadata": {
    "collapsed": false
   },
   "outputs": [],
   "source": [
    "plotSignal(102.4,256)"
   ]
  },
  {
   "cell_type": "markdown",
   "metadata": {},
   "source": [
    "Then the same principle to get better 35.5 Hz\n",
    "1/35.5 * 256 = 7.21 * 15 = 108.16 Hz"
   ]
  },
  {
   "cell_type": "code",
   "execution_count": null,
   "metadata": {
    "collapsed": false
   },
   "outputs": [],
   "source": [
    "plotSignal(108.16,256)"
   ]
  },
  {
   "cell_type": "code",
   "execution_count": null,
   "metadata": {
    "collapsed": false
   },
   "outputs": [],
   "source": [
    "plotSignal(108.16,256)"
   ]
  },
  {
   "cell_type": "code",
   "execution_count": null,
   "metadata": {
    "collapsed": false
   },
   "outputs": [],
   "source": [
    "# 1/35.5 * 256 * 20 = 144.22\n",
    "plotSignal(144.22,512)"
   ]
  },
  {
   "cell_type": "code",
   "execution_count": null,
   "metadata": {
    "collapsed": false
   },
   "outputs": [],
   "source": [
    "## Why not to start from high frequencies:"
   ]
  },
  {
   "cell_type": "code",
   "execution_count": null,
   "metadata": {
    "collapsed": false
   },
   "outputs": [],
   "source": [
    "plotSignal(fs=500,N=256)"
   ]
  },
  {
   "cell_type": "markdown",
   "metadata": {},
   "source": [
    "* Very poor frequency resolution, $\\Delta f = 1/T = f_s/N = 500 / 256 = 1.95 Hz$ versus $\\Delta f = 100 / 256 = 0.39 Hz$\n",
    "* peaks are at 9.76 Hz and 35.2 Hz \n",
    "* wasting a lot of frequency axis above 2 * 35.7"
   ]
  },
  {
   "cell_type": "markdown",
   "metadata": {},
   "source": [
    "## Use windowing or low-pass filtering\n",
    "    "
   ]
  },
  {
   "cell_type": "code",
   "execution_count": null,
   "metadata": {
    "collapsed": false
   },
   "outputs": [],
   "source": [
    "from scipy.signal import hann\n",
    "h = hann(N)"
   ]
  },
  {
   "cell_type": "code",
   "execution_count": null,
   "metadata": {
    "collapsed": false
   },
   "outputs": [],
   "source": [
    "fs = 150; N = 256;\n",
    "t,y = create_signal(fs,N)\n",
    "\n",
    "plot(t,y,'b-',t,y*h,'r')"
   ]
  },
  {
   "cell_type": "code",
   "execution_count": null,
   "metadata": {
    "collapsed": false
   },
   "outputs": [],
   "source": [
    "\n",
    "frq,Y = spectrum(y,fs)\n",
    "plot(frq,abs(Y))"
   ]
  },
  {
   "cell_type": "markdown",
   "metadata": {},
   "source": [
    "## Oh, no, we forgot the DC  see the Y(0) !!"
   ]
  },
  {
   "cell_type": "code",
   "execution_count": null,
   "metadata": {
    "collapsed": false
   },
   "outputs": [],
   "source": [
    "frq,Y = spectrum(y-mean(y),fs)\n",
    "plot(frq,abs(Y))"
   ]
  },
  {
   "cell_type": "code",
   "execution_count": null,
   "metadata": {
    "collapsed": false
   },
   "outputs": [],
   "source": [
    "from scipy.signal import firwin, lfilter\n",
    "a = 1                                          # filter denominator\n",
    "b = firwin(N, cutoff=.6, window='hamming')    # filter numerator\n",
    "y1 = lfilter(b, a, y-mean(y)) \n",
    "plot(t,y,'b',t,y1+mean(y),'r')"
   ]
  },
  {
   "cell_type": "code",
   "execution_count": null,
   "metadata": {
    "collapsed": false
   },
   "outputs": [],
   "source": [
    "frq1,Y1 = spectrum(y1,fs)"
   ]
  },
  {
   "cell_type": "code",
   "execution_count": null,
   "metadata": {
    "collapsed": false
   },
   "outputs": [],
   "source": [
    "plot(frq,abs(Y),'b',frq1,abs(Y1),'r')"
   ]
  }
 ],
 "metadata": {
  "kernelspec": {
   "display_name": "Python 2",
   "language": "python",
   "name": "python2"
  },
  "language_info": {
   "codemirror_mode": {
    "name": "ipython",
    "version": 2
   },
   "file_extension": ".py",
   "mimetype": "text/x-python",
   "name": "python",
   "nbconvert_exporter": "python",
   "pygments_lexer": "ipython2",
   "version": "2.7.6"
  }
 },
 "nbformat": 4,
 "nbformat_minor": 0
}
