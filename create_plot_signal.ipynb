{
 "cells": [
  {
   "cell_type": "markdown",
   "metadata": {},
   "source": [
    "# Signal construction and helper functions for the frequency content class \n"
   ]
  },
  {
   "cell_type": "code",
   "execution_count": 21,
   "metadata": {
    "collapsed": false
   },
   "outputs": [],
   "source": [
    "import numpy as np\n",
    "from scipy import fft\n",
    "from __future__ import division\n",
    "\n",
    "# redefine default figure size and fonts\n",
    "import matplotlib as mpl\n",
    "mpl.rc('text', usetex = True)\n",
    "mpl.rc('font', family = 'serif',size=14)\n",
    "mpl.rc('figure',figsize=(10,8))\n",
    "\n",
    "import matplotlib.pyplot as plt\n",
    "%matplotlib inline"
   ]
  },
  {
   "cell_type": "code",
   "execution_count": 22,
   "metadata": {
    "collapsed": false
   },
   "outputs": [],
   "source": [
    "def create_signal(fs,N):\n",
    "    \"\"\" create a secret periodic signal with a Gaussian noise\"\"\"\n",
    "    dt = 1./fs\n",
    "    t = np.linspace(0,N*dt,N)\n",
    "    y = 3.0+3.0*np.sin(2*np.pi*10*t) # this is a secret function \n",
    "    noise = np.random.normal(0,1,N)\n",
    "    y += noise\n",
    "    return t, y"
   ]
  },
  {
   "cell_type": "code",
   "execution_count": null,
   "metadata": {
    "collapsed": true
   },
   "outputs": [],
   "source": [
    "def spectrum(y,Fs):\n",
    "    \"\"\"\n",
    "    Plots a Single-Sided Amplitude Spectrum of a sampled\n",
    "    signal y(t), sampling frequency Fs (lenght of a signal \n",
    "    provides the number of samples recorded)\n",
    "    \n",
    "    Following: http://goo.gl/wRoUn\n",
    "    \"\"\"\n",
    "    n = len(y) # length of the signal\n",
    "    k = np.arange(n)\n",
    "    T = n/Fs\n",
    "    frq = k/T # two sides frequency range\n",
    "    frq = frq[range(np.int(n/2))] # one side frequency range\n",
    "    Y = 2*fft(y)/n # fft computing and normalization\n",
    "    Y = Y[range(np.int(n/2))]\n",
    "    return (frq, Y)"
   ]
  },
  {
   "cell_type": "code",
   "execution_count": 23,
   "metadata": {
    "collapsed": false
   },
   "outputs": [],
   "source": [
    "def plotSignal(t,y,fs):\n",
    "    \"\"\" plots the time signal Y(t) and the \n",
    "    frequency spectrum Y(fs)\n",
    "    Inputs:\n",
    "        t - time signal, [sec]\n",
    "        Y - values, [Volt]\n",
    "        fs - sampling frequency, [Hz]\n",
    "    Outputs:\n",
    "        plot with two subplots: y(t) and the spectrum Y(f) \n",
    "    Usage:\n",
    "        fs = 30, N = 256\n",
    "        t,y = create_signal(fs,N)\n",
    "        plotSignal(t,y,fs,N)\n",
    "    \"\"\"\n",
    "    # t,y = create_signal(fs,N)\n",
    "    y = y - y.mean()\n",
    "    frq,Y = spectrum(y,fs) \n",
    "    \n",
    "    # Plot\n",
    "    plt.figure()\n",
    "    plt.subplot(2,1,1)\n",
    "    plt.plot(t,y,'b-')\n",
    "    plt.xlabel('$t$ [s]')\n",
    "    plt.ylabel('$Y$ [V]')\n",
    "    # axes().set_aspect(0.2)\n",
    "    # title('sampled signal')\n",
    "    plt.subplot(2,1,2)\n",
    "    plt.plot(frq,abs(Y),'r') # plotting the spectrum\n",
    "    plt.xlabel('$f$ (Hz)')\n",
    "    plt.ylabel('$|Y(f)|$')    "
   ]
  }
 ],
 "metadata": {
  "kernelspec": {
   "display_name": "Python 2",
   "language": "python",
   "name": "python2"
  },
  "language_info": {
   "codemirror_mode": {
    "name": "ipython",
    "version": 2
   },
   "file_extension": ".py",
   "mimetype": "text/x-python",
   "name": "python",
   "nbconvert_exporter": "python",
   "pygments_lexer": "ipython2",
   "version": "2.7.6"
  }
 },
 "nbformat": 4,
 "nbformat_minor": 0
}
