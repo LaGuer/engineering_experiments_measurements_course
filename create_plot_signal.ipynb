{
 "cells": [
  {
   "cell_type": "markdown",
   "metadata": {},
   "source": [
    "# Signal construction and helper functions for the frequency content class \n"
   ]
  },
  {
   "cell_type": "code",
   "execution_count": 89,
   "metadata": {
    "collapsed": false
   },
   "outputs": [],
   "source": [
    "import numpy as np\n",
    "from scipy import fft\n",
    "from __future__ import division\n",
    "\n",
    "# redefine default figure size and fonts\n",
    "import matplotlib as mpl\n",
    "mpl.rc('text', usetex = True)\n",
    "mpl.rc('font', family = 'serif',size=14)\n",
    "mpl.rc('figure',figsize=(10,8))\n",
    "\n",
    "import matplotlib.pyplot as plt\n",
    "%matplotlib inline"
   ]
  },
  {
   "cell_type": "code",
   "execution_count": 90,
   "metadata": {
    "collapsed": false
   },
   "outputs": [],
   "source": [
    "def create_signal(fs,N):\n",
    "    \"\"\" create a secret periodic signal with a Gaussian noise\"\"\"\n",
    "    dt = 1./fs\n",
    "    t = np.linspace(0,N*dt,N)\n",
    "    y = 3.0+3.0*np.sin(2*np.pi*10*t) # this is a secret function \n",
    "    noise = np.random.normal(0,1,N)\n",
    "    y += noise\n",
    "    return t, y"
   ]
  },
  {
   "cell_type": "code",
   "execution_count": 91,
   "metadata": {
    "collapsed": true
   },
   "outputs": [],
   "source": [
    "def spectrum(y,Fs):\n",
    "    \"\"\"\n",
    "    Plots a Single-Sided Amplitude Spectrum of a sampled\n",
    "    signal y(t), sampling frequency Fs (lenght of a signal \n",
    "    provides the number of samples recorded)\n",
    "    \n",
    "    Following: http://goo.gl/wRoUn\n",
    "    \"\"\"\n",
    "    n = len(y) # length of the signal\n",
    "    k = np.arange(n)\n",
    "    T = n/Fs\n",
    "    frq = k/T # two sides frequency range\n",
    "    frq = frq[range(np.int(n/2))] # one side frequency range\n",
    "    Y = 2*fft(y)/n # fft computing and normalization\n",
    "    Y = Y[range(np.int(n/2))]\n",
    "    return (frq, Y)"
   ]
  },
  {
   "cell_type": "code",
   "execution_count": 92,
   "metadata": {
    "collapsed": false
   },
   "outputs": [],
   "source": [
    "def plotSignal(t,y,fs):\n",
    "    \"\"\" plots the time signal Y(t) and the \n",
    "    frequency spectrum Y(fs)\n",
    "    Inputs:\n",
    "        t - time signal, [sec]\n",
    "        Y - values, [Volt]\n",
    "        fs - sampling frequency, [Hz]\n",
    "    Outputs:\n",
    "        plot with two subplots: y(t) and the spectrum Y(f) \n",
    "    Usage:\n",
    "        fs = 30, N = 256\n",
    "        t,y = create_signal(fs,N)\n",
    "        plotSignal(t,y,fs,N)\n",
    "    \"\"\"\n",
    "    # t,y = create_signal(fs,N)\n",
    "    y = y - y.mean()\n",
    "    frq,Y = spectrum(y,fs) \n",
    "    \n",
    "    # Plot\n",
    "    plt.figure()\n",
    "    plt.subplot(2,1,1)\n",
    "    plt.plot(t,y,'b-')\n",
    "    plt.xlabel('$t$ [s]')\n",
    "    plt.ylabel('$Y$ [V]')\n",
    "    # axes().set_aspect(0.2)\n",
    "    # title('sampled signal')\n",
    "    plt.subplot(2,1,2)\n",
    "    plt.plot(frq,abs(Y),'r') # plotting the spectrum\n",
    "    plt.xlabel('$f$ (Hz)')\n",
    "    plt.ylabel('$|Y(f)|$')    "
   ]
  },
  {
   "cell_type": "code",
   "execution_count": null,
   "metadata": {
    "collapsed": false
   },
   "outputs": [],
   "source": []
  },
  {
   "cell_type": "code",
   "execution_count": 93,
   "metadata": {
    "collapsed": false
   },
   "outputs": [],
   "source": [
    "def sampling(t,y,fs):\n",
    "    # sample it using fs = 1\n",
    "    dt = 1./fs # 0.1 sec\n",
    "\n",
    "    ts = np.linspace(t[0],t[-1],(t[-1]-t[0])/dt)\n",
    "    ys = np.interp(ts,t,y,left=0.0,right=0.0)\n",
    "\n",
    "    # plt.plot(t,y,'k-',lw=.1) \n",
    "    # plt.plot(ts,ys,'ro')\n",
    "    return ts,ys"
   ]
  },
  {
   "cell_type": "code",
   "execution_count": 94,
   "metadata": {
    "collapsed": true
   },
   "outputs": [],
   "source": [
    "def quantization(ys,N):\n",
    "    \"\"\"quantization of a signal\n",
    "    inputs:\n",
    "        ts - time signal [s], array\n",
    "        ys - signal [Volt], array\n",
    "        N  - number of bits, scalar (2,4,8,12,...)\n",
    "    \"\"\"\n",
    "        #quantization\n",
    "    # N = 4 # number of bits\n",
    "    max_value = 2**(N-1) - 1\n",
    "    yq = (ys*(max_value)).astype(np.int16)/(max_value)\n",
    "    return yq"
   ]
  },
  {
   "cell_type": "code",
   "execution_count": 95,
   "metadata": {
    "collapsed": true
   },
   "outputs": [],
   "source": [
    "def clipping(y,miny=-5,maxy=5):\n",
    "    \"\"\" clipping of signal \n",
    "    inputs: \n",
    "        y - signal [V] array of floats\n",
    "        miny, maxy - lowest, highest values [V], scalar floats, default -5 ..+5 [Volt]\n",
    "    outputs:\n",
    "        y - clipped signal [V]\n",
    "    \"\"\"\n",
    "    y[y < miny] = miny\n",
    "    y[y > maxy] = maxy\n",
    "    return y"
   ]
  },
  {
   "cell_type": "code",
   "execution_count": 96,
   "metadata": {
    "collapsed": false
   },
   "outputs": [],
   "source": [
    "# sample and hold\n",
    "from scipy.interpolate import interp1d\n",
    "\n",
    "def adc(t,y,fs=1,N=4,miny=-5,maxy=5):\n",
    "    \"\"\" A/D conversion\n",
    "    Inputs:\n",
    "        t - time [s] array of floats,\n",
    "        y - signal [V] array of floats,\n",
    "        fs - sampling frequency [Hz], scalar float,\n",
    "        N - number of bits of the A/D converter, (2,4,8,12,14,...)\n",
    "        miny, maxy - lowest, highest values [V], scalar floats, default -5 ..+5 [Volt]\n",
    "    outputs:\n",
    "        ts - sampled times [s]\n",
    "        yq - sampled and digitized signal [V]\n",
    "        yr - reconstructed, sample-and-hold signal [V]\n",
    "    Usage:\n",
    "        ts,yq,yr = adc(t,y)\n",
    "        plt.figure()\n",
    "        plt.plot(t,y,'k--',lw=0.1)\n",
    "        plt.plot(ts,yq,'ro')\n",
    "        plt.plot(t, soh(t),'b-')\n",
    "    \"\"\"\n",
    "    # first sample\n",
    "    ts,ys = sampling(t,y,fs)\n",
    "    # clipping\n",
    "    ys = clipping(ys,miny,maxy)\n",
    "    # digitize\n",
    "    yq = quantization(ys,N)\n",
    "    # sample and hold reconstruction\n",
    "    soh = interp1d(ts, yq, kind='zero')\n",
    "    yr = soh(t)\n",
    "    return ts,yq,yr"
   ]
  },
  {
   "cell_type": "code",
   "execution_count": 97,
   "metadata": {
    "collapsed": false
   },
   "outputs": [
    {
     "data": {
      "text/plain": [
       "[<matplotlib.lines.Line2D at 0x1026bb50>]"
      ]
     },
     "execution_count": 97,
     "metadata": {},
     "output_type": "execute_result"
    },
    {
     "data": {
      "image/png": "[encoded data removed]",
      "text/plain": [
       "<matplotlib.figure.Figure at 0xe347c90>"
      ]
     },
     "metadata": {},
     "output_type": "display_data"
    }
   ],
   "source": [
    "# example\n",
    "t = np.linspace(0,10, 10000)\n",
    "y = np.sin(2*np.pi*1*t)\n",
    "\n",
    "ts,yq,yr = adc(t,y,fs=4,N=14,miny=0,maxy=10) # monopolar\n",
    "plt.figure()\n",
    "plt.plot(t,y,'k--',lw=0.1)\n",
    "plt.plot(ts,yq,'ro')\n",
    "plt.plot(t, yr,'b-')"
   ]
  },
  {
   "cell_type": "code",
   "execution_count": 99,
   "metadata": {
    "collapsed": false
   },
   "outputs": [
    {
     "data": {
      "text/plain": [
       "[<matplotlib.lines.Line2D at 0x1052bbb0>]"
      ]
     },
     "execution_count": 99,
     "metadata": {},
     "output_type": "execute_result"
    },
    {
     "data": {
      "image/png": "[encoded data removed]",
      "text/plain": [
       "<matplotlib.figure.Figure at 0x1027f510>"
      ]
     },
     "metadata": {},
     "output_type": "display_data"
    }
   ],
   "source": [
    "# example\n",
    "t = np.linspace(0,10, 10000)\n",
    "y = 4*np.sin(2*np.pi*1*t) + .5*np.sin(2*np.pi*10*t)\n",
    "\n",
    "ts,yq,yr = adc(t,y,fs=2,N=8)\n",
    "plt.figure()\n",
    "plt.plot(t,y,'k--',lw=0.1)\n",
    "plt.plot(ts,yq,'ro')\n",
    "plt.plot(t, yr,'b-')"
   ]
  },
  {
   "cell_type": "code",
   "execution_count": null,
   "metadata": {
    "collapsed": true
   },
   "outputs": [],
   "source": []
  }
 ],
 "metadata": {
  "kernelspec": {
   "display_name": "Python 2",
   "language": "python",
   "name": "python2"
  },
  "language_info": {
   "codemirror_mode": {
    "name": "ipython",
    "version": 2
   },
   "file_extension": ".py",
   "mimetype": "text/x-python",
   "name": "python",
   "nbconvert_exporter": "python",
   "pygments_lexer": "ipython2",
   "version": "2.7.6"
  }
 },
 "nbformat": 4,
 "nbformat_minor": 0
}
