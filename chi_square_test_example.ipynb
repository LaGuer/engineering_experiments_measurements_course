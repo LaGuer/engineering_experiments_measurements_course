{
 "metadata": {
  "name": "",
  "signature": "sha256:0fec0ff5cb03b9d252a75786b3aca65e9263a9ac640eb3e09997c970c5a9522e"
 },
 "nbformat": 3,
 "nbformat_minor": 0,
 "worksheets": [
  {
   "cells": [
    {
     "cell_type": "markdown",
     "metadata": {},
     "source": [
      "# Statistics example - testing for normal distribution\n",
      "## pressure transducer calibration example\n",
      "\n",
      "Given: 20 trials of pressure reading\n",
      "\n",
      "True pressure: $10.000 \\pm 0.001$ kPa  \n",
      "Acceleration = 0  \n",
      "Vibration = 0  \n",
      "Ambient temperature = $20 \\pm 1^\\circ$C\n",
      "\n",
      "    \n",
      "        \n"
     ]
    },
    {
     "cell_type": "code",
     "collapsed": false,
     "input": [
      "P = array([10.02, 10.20, 10.26, 10.20, 10.22, 10.13, 9.97, 10.12, 10.09, 9.90, \\\n",
      "     10.05, 10.17, 10.42, 10.21, 10.23, 10.11, 9.98, 10.10, 10.04, 9.81])\n",
      "plot(P,'o')\n",
      "plot(10.0*ones(size(P)),'r--')\n",
      "xlabel('trial')\n",
      "ylabel(r'$P$ [kPa]') "
     ],
     "language": "python",
     "metadata": {},
     "outputs": [
      {
       "metadata": {},
       "output_type": "pyout",
       "prompt_number": 138,
       "text": [
        "<matplotlib.text.Text at 0xedecff0>"
       ]
      },
      {
       "metadata": {},
       "output_type": "display_data",
       "png": "[encoded data removed]"
      }
     ],
     "prompt_number": 138
    },
    {
     "cell_type": "code",
     "collapsed": false,
     "input": [
      "\n"
     ],
     "language": "python",
     "metadata": {},
     "outputs": [],
     "prompt_number": 138
    },
    {
     "cell_type": "markdown",
     "metadata": {},
     "source": [
      "## Descriptive statistics estimates \n",
      "Average: \n",
      "\n",
      "$$\\tilde{\\mu} = \\frac{1}{N}\\sum\\limits_{k=1}^{N} x_k$$\n",
      "\n",
      "Standard deviation: \n",
      "\n",
      "$$\\tilde{\\sigma} = \\sqrt{\\frac{1}{N-1}\\sum\\limits_{k=1}^{N} (x_k - \\tilde{\\mu})^2 }$$  \n",
      "\n",
      "\n",
      "Root-mean-square, r.m.s. : \n",
      "\n",
      "$$x_{\\mathrm{rms}} = \\sqrt{\\frac{1}{N}\\sum\\limits_{k=1}^{N} (x_k - \\tilde{\\mu})^2 }$$  \n",
      "\n",
      "\n"
     ]
    },
    {
     "cell_type": "code",
     "collapsed": false,
     "input": [
      "mu = P.mean()\n",
      "sigma = P.std(ddof=1) # note the definition, remember to check if the equations are right\n",
      "rms = sqrt(mean((P-mu)**2))\n",
      "print 'average= %6.3f' % mu, 'standard deviation = %6.3f'% sigma,'r.m.s.= %6.3f' % rms"
     ],
     "language": "python",
     "metadata": {},
     "outputs": [
      {
       "output_type": "stream",
       "stream": "stdout",
       "text": [
        "average= 10.111 standard deviation =  0.138 r.m.s.=  0.135\n"
       ]
      }
     ],
     "prompt_number": 139
    },
    {
     "cell_type": "code",
     "collapsed": false,
     "input": [
      "# We prepare histogram with the $\\Delta P = 0.05$ kPa\n",
      "bins = arange(9.7,10.5,0.05)\n",
      "n,bins,patches = hist(P,bins=bins)\n",
      "# bin centers for the plot\n",
      "x = bins[:-1]+0.5*diff(bins)[0]\n",
      "\n",
      "# Let's see if it fits normal distribution\n",
      "from scipy.stats import norm\n",
      "param = norm.fit(P) # param[0] = sample mean, param[1] = sample std.\n",
      "pdf_fitted = norm.pdf(x,loc=param[0],scale=param[1])\n",
      "\n",
      "\n",
      "plot(x,pdf_fitted,'r-')\n",
      "xlabel(r'$P$ [kPa]')\n",
      "ylabel('Frequency')"
     ],
     "language": "python",
     "metadata": {},
     "outputs": [
      {
       "metadata": {},
       "output_type": "pyout",
       "prompt_number": 140,
       "text": [
        "<matplotlib.text.Text at 0xefbb730>"
       ]
      },
      {
       "metadata": {},
       "output_type": "display_data",
       "png": "[encoded data removed]"
      }
     ],
     "prompt_number": 140
    },
    {
     "cell_type": "code",
     "collapsed": false,
     "input": [
      "import scipy.stats as st\n",
      "\n",
      "print \"skewness = %f, kurtosis = %f\" % (st.skew(P), st.kurtosis(P))\n",
      "# let's compare it to the values of larger random values sample:\n",
      "tmp = norm.rvs(loc=param[0],scale=param[1],size=100000)\n",
      "print \"Normal distribution skewness -> %f, kurtosis -> %f\" % (st.skew(tmp), st.kurtosis(tmp))"
     ],
     "language": "python",
     "metadata": {},
     "outputs": [
      {
       "output_type": "stream",
       "stream": "stdout",
       "text": [
        "skewness = -0.106814, kurtosis = 0.214252\n",
        "Normal distribution skewness -> 0.000756, kurtosis -> -0.009182\n"
       ]
      }
     ],
     "prompt_number": 160
    },
    {
     "cell_type": "code",
     "collapsed": false,
     "input": [
      "sum((n - pdf_fitted)**2/(pdf_fitted))"
     ],
     "language": "python",
     "metadata": {},
     "outputs": [
      {
       "metadata": {},
       "output_type": "pyout",
       "prompt_number": 167,
       "text": [
        "8.7021053575230969"
       ]
      }
     ],
     "prompt_number": 167
    },
    {
     "cell_type": "markdown",
     "metadata": {},
     "source": [
      "# $\\chi^2$ test "
     ]
    },
    {
     "cell_type": "code",
     "collapsed": false,
     "input": [
      "chi_sq = sum((n - pdf_fitted)**2/(pdf_fitted))\n",
      "print chi_sq\n",
      "\n",
      "# degrees of freedom = number of non-zero bins - 3, count 13, zero between two values count.\n",
      "print n\n",
      "dof = 13 - 3"
     ],
     "language": "python",
     "metadata": {},
     "outputs": [
      {
       "output_type": "stream",
       "stream": "stdout",
       "text": [
        "8.70210535752\n",
        "[0 0 1 1 0 2 3 2 3 3 3 1 0 0 1 0]\n"
       ]
      }
     ],
     "prompt_number": 173
    },
    {
     "cell_type": "code",
     "collapsed": false,
     "input": [
      "from scipy.stats import chi2\n",
      "\n",
      "# one-sided Chi^2 test\n",
      "pval = 1 - chi2.cdf(chi_sq, dof)\n",
      "print 'Confidence level is: %3.1f percent' % (pval*100)"
     ],
     "language": "python",
     "metadata": {},
     "outputs": [
      {
       "output_type": "stream",
       "stream": "stdout",
       "text": [
        "Confidence level is: 56.1 percent\n"
       ]
      }
     ],
     "prompt_number": 191
    },
    {
     "cell_type": "code",
     "collapsed": false,
     "input": [],
     "language": "python",
     "metadata": {},
     "outputs": []
    }
   ],
   "metadata": {}
  }
 ]
}