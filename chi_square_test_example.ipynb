{
 "cells": [
  {
   "cell_type": "markdown",
   "metadata": {},
   "source": [
    "# Statistics example - testing for normal distribution\n",
    "## pressure transducer calibration example\n",
    "\n",
    "Given: 20 trials of pressure reading\n",
    "\n",
    "True pressure: $10.000 \\pm 0.001$ kPa  \n",
    "Acceleration = 0  \n",
    "Vibration = 0  \n",
    "Ambient temperature = $20 \\pm 1^\\circ$C\n",
    "\n",
    "    \n",
    "        \n"
   ]
  },
  {
   "cell_type": "code",
   "execution_count": 8,
   "metadata": {
    "collapsed": false
   },
   "outputs": [
    {
     "name": "stdout",
     "output_type": "stream",
     "text": [
      "Populating the interactive namespace from numpy and matplotlib\n"
     ]
    },
    {
     "name": "stderr",
     "output_type": "stream",
     "text": [
      "WARNING: pylab import has clobbered these variables: ['power', 'draw_if_interactive', 'random', 'fft', 'linalg', 'info']\n",
      "`%matplotlib` prevents importing * from pylab and numpy\n"
     ]
    },
    {
     "data": {
      "text/plain": [
       "<matplotlib.text.Text at 0x10e636750>"
      ]
     },
     "execution_count": 8,
     "metadata": {},
     "output_type": "execute_result"
    },
    {
     "data": {
      "image/png": "[encoded data removed]",
      "text/plain": [
       "<matplotlib.figure.Figure at 0x10ea3a990>"
      ]
     },
     "metadata": {},
     "output_type": "display_data"
    }
   ],
   "source": [
    "from pylab import *\n",
    "%pylab inline\n",
    "\n",
    "P = array([10.02, 10.20, 10.26, 10.20, 10.22, 10.13, 9.97, 10.12, 10.09, 9.90, \\\n",
    "     10.05, 10.17, 10.42, 10.21, 10.23, 10.11, 9.98, 10.10, 10.04, 9.81])\n",
    "plot(P,'o')\n",
    "plot(10.0*ones(size(P)),'r--')\n",
    "xlabel('trial')\n",
    "ylabel(r'$P$ [kPa]') "
   ]
  },
  {
   "cell_type": "markdown",
   "metadata": {},
   "source": [
    "## Descriptive statistics estimates \n",
    "Average: \n",
    "\n",
    "$$\\tilde{\\mu} = \\frac{1}{N}\\sum\\limits_{k=1}^{N} x_k$$\n",
    "\n",
    "Standard deviation: \n",
    "\n",
    "$$\\tilde{\\sigma} = \\sqrt{\\frac{1}{N-1}\\sum\\limits_{k=1}^{N} (x_k - \\tilde{\\mu})^2 }$$  \n",
    "\n",
    "\n",
    "Root-mean-square, r.m.s. : \n",
    "\n",
    "$$x_{\\mathrm{rms}} = \\sqrt{\\frac{1}{N}\\sum\\limits_{k=1}^{N} (x_k - \\tilde{\\mu})^2 }$$  \n",
    "\n",
    "\n"
   ]
  },
  {
   "cell_type": "code",
   "execution_count": 9,
   "metadata": {
    "collapsed": false
   },
   "outputs": [
    {
     "name": "stdout",
     "output_type": "stream",
     "text": [
      "average= 10.111 standard deviation =  0.138 r.m.s.=  0.135\n"
     ]
    }
   ],
   "source": [
    "mu = P.mean()\n",
    "sigma = P.std(ddof=1) # note the definition, remember to check if the equations are right\n",
    "rms = sqrt(mean((P-mu)**2))\n",
    "print 'average= %6.3f' % mu, 'standard deviation = %6.3f'% sigma,'r.m.s.= %6.3f' % rms"
   ]
  },
  {
   "cell_type": "code",
   "execution_count": 10,
   "metadata": {
    "collapsed": false
   },
   "outputs": [
    {
     "data": {
      "text/plain": [
       "<matplotlib.text.Text at 0x110d47b90>"
      ]
     },
     "execution_count": 10,
     "metadata": {},
     "output_type": "execute_result"
    },
    {
     "data": {
      "image/png": "[encoded data removed]",
      "text/plain": [
       "<matplotlib.figure.Figure at 0x104062450>"
      ]
     },
     "metadata": {},
     "output_type": "display_data"
    }
   ],
   "source": [
    "# We prepare histogram with the $\\Delta P = 0.05$ kPa\n",
    "bins = arange(9.7,10.5,0.05)\n",
    "n,bins,patches = hist(P,bins=bins)\n",
    "# bin centers for the plot\n",
    "x = bins[:-1]+0.5*diff(bins)[0]\n",
    "\n",
    "# Let's see if it fits normal distribution\n",
    "from scipy.stats import norm\n",
    "param = norm.fit(P) # param[0] = sample mean, param[1] = sample std.\n",
    "pdf_fitted = norm.pdf(x,loc=param[0],scale=param[1])\n",
    "\n",
    "\n",
    "plot(x,pdf_fitted,'r-')\n",
    "xlabel(r'$P$ [kPa]')\n",
    "ylabel('Frequency')"
   ]
  },
  {
   "cell_type": "code",
   "execution_count": 11,
   "metadata": {
    "collapsed": false
   },
   "outputs": [
    {
     "name": "stdout",
     "output_type": "stream",
     "text": [
      "skewness = -0.106814, kurtosis = 0.214252\n",
      "Normal distribution skewness -> -0.001648, kurtosis -> 0.009373\n"
     ]
    }
   ],
   "source": [
    "import scipy.stats as st\n",
    "\n",
    "print \"skewness = %f, kurtosis = %f\" % (st.skew(P), st.kurtosis(P))\n",
    "# let's compare it to the values of larger random values sample:\n",
    "tmp = norm.rvs(loc=param[0],scale=param[1],size=100000)\n",
    "print \"Normal distribution skewness -> %f, kurtosis -> %f\" % (st.skew(tmp), st.kurtosis(tmp))"
   ]
  },
  {
   "cell_type": "code",
   "execution_count": 12,
   "metadata": {
    "collapsed": false
   },
   "outputs": [
    {
     "data": {
      "text/plain": [
       "8.7021053575230969"
      ]
     },
     "execution_count": 12,
     "metadata": {},
     "output_type": "execute_result"
    }
   ],
   "source": [
    "sum((n - pdf_fitted)**2/(pdf_fitted))"
   ]
  },
  {
   "cell_type": "markdown",
   "metadata": {},
   "source": [
    "# $\\chi^2$ test "
   ]
  },
  {
   "cell_type": "code",
   "execution_count": 13,
   "metadata": {
    "collapsed": false
   },
   "outputs": [
    {
     "name": "stdout",
     "output_type": "stream",
     "text": [
      "8.70210535752\n",
      "[ 0.  0.  1.  1.  0.  2.  3.  2.  3.  3.  3.  1.  0.  0.  1.  0.]\n"
     ]
    }
   ],
   "source": [
    "chi_sq = sum((n - pdf_fitted)**2/(pdf_fitted))\n",
    "print chi_sq\n",
    "\n",
    "# degrees of freedom = number of non-zero bins - 3, count 13, zero between two values count.\n",
    "print n\n",
    "dof = 13 - 3"
   ]
  },
  {
   "cell_type": "code",
   "execution_count": 14,
   "metadata": {
    "collapsed": false
   },
   "outputs": [
    {
     "name": "stdout",
     "output_type": "stream",
     "text": [
      "Confidence level is: 56.1 percent\n"
     ]
    }
   ],
   "source": [
    "from scipy.stats import chi2\n",
    "\n",
    "# one-sided Chi^2 test\n",
    "pval = 1 - chi2.cdf(chi_sq, dof)\n",
    "print 'Confidence level is: %3.1f percent' % (pval*100)"
   ]
  }
 ],
 "metadata": {
  "kernelspec": {
   "display_name": "Python 2",
   "language": "python",
   "name": "python2"
  },
  "language_info": {
   "codemirror_mode": {
    "name": "ipython",
    "version": 2
   },
   "file_extension": ".py",
   "mimetype": "text/x-python",
   "name": "python",
   "nbconvert_exporter": "python",
   "pygments_lexer": "ipython2",
   "version": "2.7.11"
  }
 },
 "nbformat": 4,
 "nbformat_minor": 0
}
