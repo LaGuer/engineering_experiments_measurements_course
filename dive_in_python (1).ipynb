{
 "metadata": {
  "name": ""
 },
 "nbformat": 3,
 "nbformat_minor": 0,
 "worksheets": [
  {
   "cells": [
    {
     "cell_type": "code",
     "collapsed": false,
     "input": [
      "# dive in python tutorial\n",
      "# Numerical Python = numpy\n",
      "# not all the functions are available at the moment Python starts\n",
      "# call only those you need:\n",
      "import numpy\n",
      "l = numpy.array([1,2,3]) # assign a vector to a variable\n",
      "a = 2.0000000000001\n",
      "numpy.array([a,2*a,3*a])"
     ],
     "language": "python",
     "metadata": {},
     "outputs": [
      {
       "metadata": {},
       "output_type": "pyout",
       "prompt_number": 1,
       "text": [
        "array([ 2.,  4.,  6.])"
       ]
      }
     ],
     "prompt_number": 1
    },
    {
     "cell_type": "code",
     "collapsed": true,
     "input": [],
     "language": "python",
     "metadata": {},
     "outputs": [],
     "prompt_number": "&nbsp;"
    }
   ],
   "metadata": {}
  }
 ]
}