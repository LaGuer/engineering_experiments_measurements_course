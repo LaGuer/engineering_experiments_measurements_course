{
 "cells": [
  {
   "cell_type": "code",
   "execution_count": 68,
   "metadata": {
    "collapsed": false
   },
   "outputs": [],
   "source": [
    "from sympy import *\n",
    "init_printing(pretty_print=True,use_latex=True)\n",
    "%matplotlib inline\n",
    "import matplotlib.pyplot as plt\n",
    "from numpy import arange"
   ]
  },
  {
   "cell_type": "code",
   "execution_count": 69,
   "metadata": {
    "collapsed": false
   },
   "outputs": [],
   "source": [
    "f,t,T,G = symbols('f t T G')"
   ]
  },
  {
   "cell_type": "code",
   "execution_count": 70,
   "metadata": {
    "collapsed": false
   },
   "outputs": [
    {
     "name": "stdout",
     "output_type": "stream",
     "text": [
      "f = G*t\n"
     ]
    }
   ],
   "source": [
    "f = G*t\n",
    "print 'f =', f"
   ]
  },
  {
   "cell_type": "code",
   "execution_count": 86,
   "metadata": {
    "collapsed": false
   },
   "outputs": [
    {
     "data": {
      "image/png": "[encoded data removed]",
      "text/plain": [
       "<matplotlib.figure.Figure at 0x10fba0490>"
      ]
     },
     "metadata": {},
     "output_type": "display_data"
    }
   ],
   "source": [
    "p = plot((f.subs(G,25),(t,0,1)),((f-25).subs(G,25),(t,1,2)),((f-50).subs(G,25),(t,2,3)), \\\n",
    "         ylabel = '$f = 25 t$ [V]', xlabel = '$t$ [sec]', xlim=(0,3), figsize=(10,8))"
   ]
  },
  {
   "cell_type": "code",
   "execution_count": 72,
   "metadata": {
    "collapsed": false
   },
   "outputs": [
    {
     "name": "stdout",
     "output_type": "stream",
     "text": [
      "G*T/2\n",
      "25/2\n"
     ]
    }
   ],
   "source": [
    "c0 = integrate(f,(t,0,T))*(1/T)\n",
    "print(c0) \n",
    "print c0.subs([(G,25),(T,1)])"
   ]
  },
  {
   "cell_type": "code",
   "execution_count": 73,
   "metadata": {
    "collapsed": false
   },
   "outputs": [],
   "source": [
    "a1 = (2/T)*integrate(f*sin(2*pi*t),(t,0,T))"
   ]
  },
  {
   "cell_type": "code",
   "execution_count": 74,
   "metadata": {
    "collapsed": false
   },
   "outputs": [
    {
     "name": "stdout",
     "output_type": "stream",
     "text": [
      "2*G*(-T*cos(2*pi*T)/(2*pi) + sin(2*pi*T)/(4*pi**2))/T\n",
      "-7.96178343949045\n"
     ]
    }
   ],
   "source": [
    "print(a1)\n",
    "print a1.subs([(T,1),(pi, 3.14),(G,25)])"
   ]
  },
  {
   "cell_type": "code",
   "execution_count": 75,
   "metadata": {
    "collapsed": false
   },
   "outputs": [],
   "source": [
    "a,b = [],[]\n",
    "for n in range(10):\n",
    "    a.append((2/T)*integrate(f*sin(n*pi*t),(t,0,T)))\n",
    "    b.append((2/T)*integrate(f*cos(n*pi*t),(t,0,T)))"
   ]
  },
  {
   "cell_type": "code",
   "execution_count": 76,
   "metadata": {
    "collapsed": false
   },
   "outputs": [
    {
     "data": {
      "image/png": "[encoded data removed]",
      "text/latex": [
       "$$\\left ( \\frac{2 G}{T} \\left(- \\frac{T}{9 \\pi} \\cos{\\left (9 \\pi T \\right )} + \\frac{1}{81 \\pi^{2}} \\sin{\\left (9 \\pi T \\right )}\\right), \\quad \\frac{1}{T} \\left(2 G \\left(\\frac{T}{9 \\pi} \\sin{\\left (9 \\pi T \\right )} + \\frac{1}{81 \\pi^{2}} \\cos{\\left (9 \\pi T \\right )}\\right) - \\frac{2 G}{81 \\pi^{2}}\\right)\\right )$$"
      ],
      "text/plain": [
       "⎛    ⎛  T⋅cos(9⋅π⋅T)   sin(9⋅π⋅T)⎞    ⎛  ⎛T⋅sin(9⋅π⋅T)   cos(9⋅π⋅T)⎞     G  ⎞⎞\n",
       "⎜2⋅G⋅⎜- ──────────── + ──────────⎟  2⋅⎜G⋅⎜──────────── + ──────────⎟ - ─────⎟⎟\n",
       "⎜    ⎜      9⋅π              2   ⎟    ⎜  ⎜    9⋅π              2   ⎟       2⎟⎟\n",
       "⎜    ⎝                   81⋅π    ⎠    ⎝  ⎝                 81⋅π    ⎠   81⋅π ⎠⎟\n",
       "⎜─────────────────────────────────, ─────────────────────────────────────────⎟\n",
       "⎝                T                                      T                    ⎠"
      ]
     },
     "execution_count": 76,
     "metadata": {},
     "output_type": "execute_result"
    }
   ],
   "source": [
    "a[9], b[9]"
   ]
  },
  {
   "cell_type": "code",
   "execution_count": null,
   "metadata": {
    "collapsed": false
   },
   "outputs": [],
   "source": []
  },
  {
   "cell_type": "code",
   "execution_count": 77,
   "metadata": {
    "collapsed": false
   },
   "outputs": [
    {
     "name": "stdout",
     "output_type": "stream",
     "text": [
      "2*G*(-T*cos(pi*T)/pi + sin(pi*T)/pi**2)/T\n",
      "2*G*(-T*cos(2*pi*T)/(2*pi) + sin(2*pi*T)/(4*pi**2))/T\n",
      "2*G*(-T*cos(3*pi*T)/(3*pi) + sin(3*pi*T)/(9*pi**2))/T\n",
      "2*G*(-T*cos(4*pi*T)/(4*pi) + sin(4*pi*T)/(16*pi**2))/T\n",
      "2*G*(-T*cos(5*pi*T)/(5*pi) + sin(5*pi*T)/(25*pi**2))/T\n",
      "2*G*(-T*cos(6*pi*T)/(6*pi) + sin(6*pi*T)/(36*pi**2))/T\n",
      "2*G*(-T*cos(7*pi*T)/(7*pi) + sin(7*pi*T)/(49*pi**2))/T\n",
      "2*G*(-T*cos(8*pi*T)/(8*pi) + sin(8*pi*T)/(64*pi**2))/T\n",
      "2*G*(-T*cos(9*pi*T)/(9*pi) + sin(9*pi*T)/(81*pi**2))/T\n"
     ]
    }
   ],
   "source": [
    "\n",
    "c = []\n",
    "for n in range(1,10):\n",
    "    print a[n]\n",
    "    expr = sqrt(a[n]**2 + b[n]**2)\n",
    "    expr = expr.subs([(T,1),(pi, 3.14),(G,25)])\n",
    "    # print expr\n",
    "    # val = lambdify(t,expr,'numpy')\n",
    "    c.append(expr)"
   ]
  },
  {
   "cell_type": "code",
   "execution_count": 87,
   "metadata": {
    "collapsed": false
   },
   "outputs": [
    {
     "data": {
      "text/plain": [
       "<matplotlib.text.Text at 0x10fba0e10>"
      ]
     },
     "execution_count": 87,
     "metadata": {},
     "output_type": "execute_result"
    },
    {
     "data": {
      "image/png": "[encoded data removed]",
      "text/plain": [
       "<matplotlib.figure.Figure at 0x10fcf0350>"
      ]
     },
     "metadata": {},
     "output_type": "display_data"
    }
   ],
   "source": [
    "fig,ax = plt.subplots(figsize=(10,8))\n",
    "ax.bar(-.5+arange(1,10),c,alpha=.5)\n",
    "ax.set_xticks([1,2,3,4,5,6,7,8,9,10])\n",
    "ax.set_xlabel('$n$',fontsize=16)\n",
    "ax.set_ylabel('Fourier coefficients $a_n^2 + b_n^2$',fontsize=16)"
   ]
  },
  {
   "cell_type": "code",
   "execution_count": null,
   "metadata": {
    "collapsed": false
   },
   "outputs": [],
   "source": []
  }
 ],
 "metadata": {
  "kernelspec": {
   "display_name": "Python 2",
   "language": "python",
   "name": "python2"
  },
  "language_info": {
   "codemirror_mode": {
    "name": "ipython",
    "version": 2
   },
   "file_extension": ".py",
   "mimetype": "text/x-python",
   "name": "python",
   "nbconvert_exporter": "python",
   "pygments_lexer": "ipython2",
   "version": "2.7.11"
  }
 },
 "nbformat": 4,
 "nbformat_minor": 0
}
