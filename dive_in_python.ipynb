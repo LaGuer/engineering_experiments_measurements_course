{
 "metadata": {
  "name": "dive_in_python"
 }, 
 "nbformat": 2, 
 "worksheets": [
  {
   "cells": [
    {
     "cell_type": "code", 
     "collapsed": false, 
     "input": [
      "# dive in python tutorial", 
      "# Numerical Python = numpy", 
      "# not all the functions are available at the moment Python starts", 
      "# call only those you need:", 
      "import numpy", 
      "l = numpy.array([1,2,3]) # assign a vector to a variable", 
      "a = 2.0000000000001", 
      "numpy.array([a,2*a,3*a])"
     ], 
     "language": "python", 
     "outputs": [
      {
       "ename": "TypeError", 
       "evalue": "%d format: a number is required, not numpy.ndarray", 
       "output_type": "pyerr", 
       "traceback": [
        "<span class=\"ansired\">---------------------------------------------------------------------------</span>\n<span class=\"ansired\">TypeError</span>                                 Traceback (most recent call last)", 
        "<span class=\"ansigreen\">/Users/alex/Documents/Courses/Mdd11/Python/&lt;ipython-input-11-d8bba3779748&gt;</span> in <span class=\"ansicyan\">&lt;module&gt;</span><span class=\"ansiblue\">()</span>\n<span class=\"ansigreen\">      5</span> <span class=\"ansigreen\">import</span> numpy<span class=\"ansiblue\"></span>\n<span class=\"ansigreen\">      6</span> l <span class=\"ansiblue\">=</span> numpy<span class=\"ansiblue\">.</span>array<span class=\"ansiblue\">(</span><span class=\"ansiblue\">[</span><span class=\"ansicyan\">1</span><span class=\"ansiblue\">,</span><span class=\"ansicyan\">2</span><span class=\"ansiblue\">,</span><span class=\"ansicyan\">3</span><span class=\"ansiblue\">]</span><span class=\"ansiblue\">)</span> <span class=\"ansired\"># assign a vector to a variable</span><span class=\"ansiblue\"></span>\n<span class=\"ansigreen\">----&gt; 7</span><span class=\"ansired\"> </span><span class=\"ansigreen\">print</span> <span class=\"ansiblue\">&quot;l = %3d&quot;</span> <span class=\"ansiblue\">%</span> l<span class=\"ansiblue\"></span>\n<span class=\"ansigreen\">      8</span> a <span class=\"ansiblue\">=</span> <span class=\"ansicyan\">2.0000000000001</span><span class=\"ansiblue\"></span>\n<span class=\"ansigreen\">      9</span> numpy<span class=\"ansiblue\">.</span>array<span class=\"ansiblue\">(</span><span class=\"ansiblue\">[</span>a<span class=\"ansiblue\">,</span><span class=\"ansicyan\">2</span><span class=\"ansiblue\">*</span>a<span class=\"ansiblue\">,</span><span class=\"ansicyan\">3</span><span class=\"ansiblue\">*</span>a<span class=\"ansiblue\">]</span><span class=\"ansiblue\">)</span><span class=\"ansiblue\"></span>\n", 
        "<span class=\"ansired\">TypeError</span>: %d format: a number is required, not numpy.ndarray"
       ]
      }
     ], 
     "prompt_number": 11
    }, 
    {
     "cell_type": "code", 
     "collapsed": true, 
     "input": [], 
     "language": "python", 
     "outputs": [], 
     "prompt_number": "&nbsp;"
    }
   ]
  }
 ]
}