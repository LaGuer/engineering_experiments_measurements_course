{
 "metadata": {
  "name": ""
 },
 "nbformat": 3,
 "nbformat_minor": 0,
 "worksheets": [
  {
   "cells": [
    {
     "cell_type": "code",
     "collapsed": false,
     "input": [
      "# Linearity error example\n"
     ],
     "language": "python",
     "metadata": {},
     "outputs": [],
     "prompt_number": 57
    },
    {
     "cell_type": "code",
     "collapsed": false,
     "input": [
      "import numpy as np\n",
      "x = np.array(range(20,220,20)+range(180,0,-20))\n",
      "y = np.array([20,40,59,77,97,117,137,156,175,195,176,156,136,117,97,78,58,39,20])"
     ],
     "language": "python",
     "metadata": {},
     "outputs": [],
     "prompt_number": 58
    },
    {
     "cell_type": "code",
     "collapsed": false,
     "input": [
      "print 'x = '; print x\n",
      "print 'y = '; print y"
     ],
     "language": "python",
     "metadata": {},
     "outputs": [
      {
       "output_type": "stream",
       "stream": "stdout",
       "text": [
        "x = \n",
        "[ 20  40  60  80 100 120 140 160 180 200 180 160 140 120 100  80  60  40\n",
        "  20]\n",
        "y = \n",
        "[ 20  40  59  77  97 117 137 156 175 195 176 156 136 117  97  78  58  39\n",
        "  20]\n"
       ]
      }
     ],
     "prompt_number": 59
    },
    {
     "cell_type": "code",
     "collapsed": false,
     "input": [
      "plot(x,y,'--o')"
     ],
     "language": "python",
     "metadata": {},
     "outputs": [
      {
       "metadata": {},
       "output_type": "pyout",
       "prompt_number": 60,
       "text": [
        "[<matplotlib.lines.Line2D at 0x1061c26d0>]"
       ]
      },
      {
       "metadata": {},
       "output_type": "display_data",
       "png": "[encoded data removed]",
       "text": [
        "<matplotlib.figure.Figure at 0x106024150>"
       ]
      }
     ],
     "prompt_number": 60
    },
    {
     "cell_type": "code",
     "collapsed": false,
     "input": [
      "# create best fit\n",
      "p = polyfit(x,y,1)\n",
      "print p\n",
      "y_fit = polyval(p,x)"
     ],
     "language": "python",
     "metadata": {},
     "outputs": [
      {
       "output_type": "stream",
       "stream": "stdout",
       "text": [
        "[ 0.97291209  0.21978022]\n"
       ]
      }
     ],
     "prompt_number": 61
    },
    {
     "cell_type": "code",
     "collapsed": false,
     "input": [
      "plot(x,y,'ro',x,y_fit,'b--')"
     ],
     "language": "python",
     "metadata": {},
     "outputs": [
      {
       "metadata": {},
       "output_type": "pyout",
       "prompt_number": 62,
       "text": [
        "[<matplotlib.lines.Line2D at 0x1062a9710>,\n",
        " <matplotlib.lines.Line2D at 0x1062a9950>]"
       ]
      },
      {
       "metadata": {},
       "output_type": "display_data",
       "png": "[encoded data removed]",
       "text": [
        "<matplotlib.figure.Figure at 0x1062cd0d0>"
       ]
      }
     ],
     "prompt_number": 62
    },
    {
     "cell_type": "code",
     "collapsed": false,
     "input": [
      "print 'measured y = '; print y\n",
      "print 'estimated y = '; print y_fit"
     ],
     "language": "python",
     "metadata": {},
     "outputs": [
      {
       "output_type": "stream",
       "stream": "stdout",
       "text": [
        "measured y = \n",
        "[ 20  40  59  77  97 117 137 156 175 195 176 156 136 117  97  78  58  39\n",
        "  20]\n",
        "estimated y = \n",
        "[  19.67802198   39.13626374   58.59450549   78.05274725   97.51098901\n",
        "  116.96923077  136.42747253  155.88571429  175.34395604  194.8021978\n",
        "  175.34395604  155.88571429  136.42747253  116.96923077   97.51098901\n",
        "   78.05274725   58.59450549   39.13626374   19.67802198]\n"
       ]
      }
     ],
     "prompt_number": 63
    },
    {
     "cell_type": "markdown",
     "metadata": {},
     "source": [
      "# Linearity error\n",
      "$\\epsilon_L = |y_L - y|$\n",
      "\n",
      "$\\epsilon_{L_{max}} = max(\\epsilon_L)$\n",
      "\n",
      "$r_0 = y_{max} - y_{min}$\n",
      "\n",
      "$\\% \\epsilon_{L_{max}} = \\frac{\\epsilon_{L_{max}}}{r_0}\\times 100$\n"
     ]
    },
    {
     "cell_type": "code",
     "collapsed": false,
     "input": [
      "epsilon_L = abs(y - y_fit)\n",
      "epsilon_L_max = max(epsilon_L)\n",
      "r0 = max(y) - min(y)\n",
      "percent_epsilon_L_max = epsilon_L_max/r0 * 100."
     ],
     "language": "python",
     "metadata": {},
     "outputs": [],
     "prompt_number": 64
    },
    {
     "cell_type": "code",
     "collapsed": false,
     "input": [
      "errorbar(x,y_fit,10*epsilon_L)\n",
      "\n",
      "print epsilon_L_max\n",
      "print r0\n",
      "print percent_epsilon_L_max"
     ],
     "language": "python",
     "metadata": {},
     "outputs": [
      {
       "output_type": "stream",
       "stream": "stdout",
       "text": [
        "1.05274725275\n",
        "175\n",
        "0.601569858713\n"
       ]
      },
      {
       "metadata": {},
       "output_type": "display_data",
       "png": "[encoded data removed]",
       "text": [
        "<matplotlib.figure.Figure at 0x1062c0510>"
       ]
      }
     ],
     "prompt_number": 65
    },
    {
     "cell_type": "code",
     "collapsed": false,
     "input": [],
     "language": "python",
     "metadata": {},
     "outputs": [],
     "prompt_number": 65
    }
   ],
   "metadata": {}
  }
 ]
}