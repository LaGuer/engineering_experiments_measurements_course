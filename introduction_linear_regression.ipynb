{
 "metadata": {
  "name": "",
  "signature": "sha256:347a706da2e8ddbe4e8ef18b7c5383eedf798f8748daf77b642d652602a28448"
 },
 "nbformat": 3,
 "nbformat_minor": 0,
 "worksheets": [
  {
   "cells": [
    {
     "cell_type": "markdown",
     "metadata": {},
     "source": [
      "## Introduction to linear regression\n",
      "\n",
      "Based on the example given in http://onlinestatbook.com/2/regression/intro.html"
     ]
    },
    {
     "cell_type": "code",
     "collapsed": false,
     "input": [
      "%pylab inline \n",
      "# allows to use everything from Numpy and Matplotlib like in Matlab, without np. and plt.\n",
      "\n",
      "from IPython.core.display import Image \n",
      "# allows to show images from the web: Image(filename='hysteresis_example.png',width=400)"
     ],
     "language": "python",
     "metadata": {},
     "outputs": [
      {
       "output_type": "stream",
       "stream": "stdout",
       "text": [
        "Populating the interactive namespace from numpy and matplotlib\n"
       ]
      },
      {
       "output_type": "stream",
       "stream": "stderr",
       "text": [
        "WARNING: pylab import has clobbered these variables: ['sqrt', 'e']\n",
        "`%matplotlib` prevents importing * from pylab and numpy\n"
       ]
      }
     ],
     "prompt_number": 62
    },
    {
     "cell_type": "code",
     "collapsed": false,
     "input": [
      "# Let's use some simple example of two variables, x,y\n",
      "x = array([1.0, 2.0, 3.0, 4.0, 5.0])\n",
      "y = np.array([1.0, 2.0, 1.30, 3.75, 2.25])"
     ],
     "language": "python",
     "metadata": {},
     "outputs": [],
     "prompt_number": 63
    },
    {
     "cell_type": "code",
     "collapsed": false,
     "input": [
      "plot(x,y,'o',markersize=10)\n",
      "xlim([0.0, 6.0])\n",
      "ylim([0.0, 4.0])\n",
      "xlabel('$x$',fontsize=16)\n",
      "ylabel('$y$',fontsize=16)"
     ],
     "language": "python",
     "metadata": {},
     "outputs": [
      {
       "metadata": {},
       "output_type": "pyout",
       "prompt_number": 64,
       "text": [
        "<matplotlib.text.Text at 0x7f95f6b6d650>"
       ]
      },
      {
       "metadata": {},
       "output_type": "display_data",
       "png": "[encoded data removed]",
       "text": [
        "<matplotlib.figure.Figure at 0x7f95fc09d490>"
       ]
      }
     ],
     "prompt_number": 64
    },
    {
     "cell_type": "markdown",
     "metadata": {},
     "source": [
      "In simple linear regression, the topic of this section, the predictions of Y when plotted as a function of X form a straight line.\n",
      "Linear regression consists of finding the best-fitting straight line through the points. The best-fitting line is called a regression line. The black diagonal line in Figure 2 is the regression line and consists of the predicted score on Y for each possible value of X. The vertical lines from the points to the regression line represent the errors of prediction."
     ]
    },
    {
     "cell_type": "code",
     "collapsed": false,
     "input": [
      "Image(url='http://onlinestatbook.com/2/regression/graphics/reg_error.gif')"
     ],
     "language": "python",
     "metadata": {},
     "outputs": [
      {
       "html": [
        "<img src=\"http://onlinestatbook.com/2/regression/graphics/reg_error.gif\"/>"
       ],
       "metadata": {},
       "output_type": "pyout",
       "prompt_number": 65,
       "text": [
        "<IPython.core.display.Image at 0x7f95fc08a410>"
       ]
      }
     ],
     "prompt_number": 65
    },
    {
     "cell_type": "markdown",
     "metadata": {},
     "source": [
      "The error of prediction for a point is the value of the point minus the predicted value (the value on the line). Table 2 shows the predicted values (Y') and the errors of prediction (Y-Y'). For example, the first point has a Y of 1.00 and a predicted Y (called Y') of 1.21. Therefore, its error of prediction is -0.21.\n",
      "\n",
      "The formula for the regression line is \n",
      "\n",
      "$$ y' = b \\cdot x + a $$\n",
      "\n",
      "Let's assume we try some values of $a,b$: \n",
      "\n",
      "$$ y' = 0.425\\, x + 0.758 $$"
     ]
    },
    {
     "cell_type": "code",
     "collapsed": false,
     "input": [
      "b = 0.425\n",
      "a = 0.785\n",
      "\n",
      "ytag = x*b + a\n",
      "print \"y'\"\"\n",
      "print ytag\n",
      "print 'original y:'\n",
      "print y"
     ],
     "language": "python",
     "metadata": {},
     "outputs": [
      {
       "ename": "SyntaxError",
       "evalue": "EOL while scanning string literal (<ipython-input-66-aeb1d4cb3484>, line 5)",
       "output_type": "pyerr",
       "traceback": [
        "\u001b[1;36m  File \u001b[1;32m\"<ipython-input-66-aeb1d4cb3484>\"\u001b[1;36m, line \u001b[1;32m5\u001b[0m\n\u001b[1;33m    print \"y'\"\"\u001b[0m\n\u001b[1;37m              ^\u001b[0m\n\u001b[1;31mSyntaxError\u001b[0m\u001b[1;31m:\u001b[0m EOL while scanning string literal\n"
       ]
      }
     ],
     "prompt_number": 66
    },
    {
     "cell_type": "code",
     "collapsed": false,
     "input": [
      "e = ytag - y\n",
      "print 'Errors:'\n",
      "print e"
     ],
     "language": "python",
     "metadata": {},
     "outputs": []
    },
    {
     "cell_type": "markdown",
     "metadata": {},
     "source": [
      "### Computing the Regression Line\n",
      "\n",
      "In the age of computers, the regression line is typically computed with statistical software. However, the calculations are relatively easy, and are given here for anyone who is interested. The calculations are based on the statistics shown in Table 3. $M_x$ is the mean of $X$, $M_y$ is the mean of $Y$, $S_x$ is the standard deviation of $X$, $S_y$ is the standard deviation of $Y$, and $r$ is the correlation between $X$ and $Y$.\n",
      "\n",
      "### Formulae for standard deviations and correlation\n",
      "\n",
      "$$ S_x = \\frac{1}{N} \\sum (x-\\bar{x})^2 $$\n",
      "\n",
      "$$ S_y = \\frac{1}{N} \\sum (y-\\bar{y})^2 $$\n",
      "\n",
      "$$ R = \\frac{1}{S_x S_y} \\sum (x-\\bar{x})(y - \\bar{y}) $$\n"
     ]
    },
    {
     "cell_type": "code",
     "collapsed": false,
     "input": [
      "Mx = mean(x)\n",
      "My = mean(y)\n",
      "Sx = std(x,ddof=1) # note the ddof=1 which means N-1 \n",
      "Sy = std(y,ddof=1)\n",
      "Sxy = corrcoef(x,y)\n",
      "R = Sxy[0,1] # off-diagonal is the correlation coefficient\n",
      "print '%4.3f %4.3f %4.3f %4.3f %4.3f' % (Mx,My,Sx,Sy,R)"
     ],
     "language": "python",
     "metadata": {},
     "outputs": []
    },
    {
     "cell_type": "markdown",
     "metadata": {},
     "source": [
      "$$ b = R \\; Sy/Sx $$\n",
      "$$ a = \\bar{y} - b \\bar{x} $$"
     ]
    },
    {
     "cell_type": "code",
     "collapsed": false,
     "input": [
      "b = R*Sy/Sx; print 'b = %4.3f' % b\n",
      "a = My - b*Mx; print 'a = %4.3f'% a"
     ],
     "language": "python",
     "metadata": {},
     "outputs": [
      {
       "output_type": "stream",
       "stream": "stdout",
       "text": [
        "b = 0.425\n",
        "a = 0.785\n"
       ]
      }
     ],
     "prompt_number": 67
    },
    {
     "cell_type": "markdown",
     "metadata": {},
     "source": [
      "## Regression analysis\n",
      "Following the recipe of http://www.answermysearches.com/how-to-do-a-simple-linear-regression-in-python/124/"
     ]
    },
    {
     "cell_type": "code",
     "collapsed": false,
     "input": [
      "from math import sqrt\n",
      "def linreg(X, Y):\n",
      "    \"\"\"\n",
      "    Summary\n",
      "        Linear regression of y = ax + b\n",
      "    Usage\n",
      "        real, real, real = linreg(list, list)\n",
      "    Returns coefficients to the regression line \"y=ax+b\" from x[] and y[], and R^2 Value\n",
      "    \"\"\"\n",
      "    if len(X) != len(Y):  raise ValueError, 'unequal length'\n",
      "    N = len(X)\n",
      "    Sx = Sy = Sxx = Syy = Sxy = 0.0\n",
      "    for x, y in map(None, X, Y):\n",
      "        Sx = Sx + x\n",
      "        Sy = Sy + y\n",
      "        Sxx = Sxx + x*x\n",
      "        Syy = Syy + y*y\n",
      "        Sxy = Sxy + x*y\n",
      "    det = Sxx * N - Sx * Sx\n",
      "    a, b = (Sxy * N - Sy * Sx)/det, (Sxx * Sy - Sx * Sxy)/det\n",
      "    meanerror = residual = 0.0\n",
      "    for x, y in map(None, X, Y):\n",
      "        meanerror = meanerror + (y - Sy/N)**2\n",
      "        residual = residual + (y - a * x - b)**2\n",
      "    RR = 1 - residual/meanerror\n",
      "    ss = residual / (N-2)\n",
      "    Var_a, Var_b = ss * N / det, ss * Sxx / det\n",
      "    # print \"y=ax+b\"\n",
      "    # print \"N= %d\" % N\n",
      "    # print \"a= %g \\\\pm t_{%d;\\\\alpha/2} %g\" % (a, N-2, sqrt(Var_a))\n",
      "    # print \"b= %g \\\\pm t_{%d;\\\\alpha/2} %g\" % (b, N-2, sqrt(Var_b))\n",
      "    # print \"R^2= %g\" % RR\n",
      "    # print \"s^2= %g\" % ss\n",
      "    return a, b, RR"
     ],
     "language": "python",
     "metadata": {},
     "outputs": [],
     "prompt_number": 68
    },
    {
     "cell_type": "code",
     "collapsed": false,
     "input": [
      "a,b, RR = linreg(x,y)\n",
      "print a, b"
     ],
     "language": "python",
     "metadata": {},
     "outputs": [],
     "prompt_number": 69
    },
    {
     "cell_type": "markdown",
     "metadata": {},
     "source": [
      "### Standardized Variables\n",
      "\n",
      "The regression equation is simpler if variables are **standardized** so that their means are equal to 0 and standard deviations are equal to 1, for then $b = r$ and $a = 0$. This makes the regression line:\n",
      "\n",
      "$$ Z_y = (R)(Z_x) $$\n",
      "\n",
      "where $Z_y = y - \\bar{y}$, $Z_x = x - \\bar{x}$, $R$ is the correlation, Note that the slope of the regression equation for standardized variables is $R$."
     ]
    },
    {
     "cell_type": "code",
     "collapsed": false,
     "input": [
      "figure(figsize=(10,8))\n",
      "plot(x,y,'o',markersize=8)\n",
      "xlim([0.0, 6.0])\n",
      "ylim([0.0, 4.0])\n",
      "xlabel('$x$',fontsize=16)\n",
      "ylabel('$y$',fontsize=16)\n",
      "plot(x,ytag,'-',lw=2)\n",
      "legend((r'$y$',r\"$y'$\"),fontsize=16)"
     ],
     "language": "python",
     "metadata": {},
     "outputs": [
      {
       "metadata": {},
       "output_type": "pyout",
       "prompt_number": 83,
       "text": [
        "<matplotlib.legend.Legend at 0x7f95f554e5d0>"
       ]
      },
      {
       "metadata": {},
       "output_type": "display_data",
       "png": "[encoded data removed]",
       "text": [
        "<matplotlib.figure.Figure at 0x7f95f54dfb50>"
       ]
      }
     ],
     "prompt_number": 83
    },
    {
     "cell_type": "code",
     "collapsed": false,
     "input": [],
     "language": "python",
     "metadata": {},
     "outputs": []
    }
   ],
   "metadata": {}
  }
 ]
}