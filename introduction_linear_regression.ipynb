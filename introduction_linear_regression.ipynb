{
 "cells": [
  {
   "cell_type": "markdown",
   "metadata": {},
   "source": [
    "## Introduction to linear regression\n",
    "\n",
    "Based on the example given in http://onlinestatbook.com/2/regression/intro.html"
   ]
  },
  {
   "cell_type": "code",
   "execution_count": 49,
   "metadata": {
    "collapsed": false
   },
   "outputs": [
    {
     "name": "stdout",
     "output_type": "stream",
     "text": [
      "Populating the interactive namespace from numpy and matplotlib\n"
     ]
    }
   ],
   "source": [
    "import numpy as np\n",
    "import matplotlib.pyplot as pl\n",
    "%pylab inline \n",
    "# allows to use everything from Numpy and Matplotlib like in Matlab, without np. and plt.\n",
    "\n",
    "from IPython.display import Image \n",
    "# allows to show images from the web: Image(filename='hysteresis_example.png',width=400)"
   ]
  },
  {
   "cell_type": "code",
   "execution_count": 50,
   "metadata": {
    "collapsed": false
   },
   "outputs": [],
   "source": [
    "# Let's use some simple example of two variables, x,y\n",
    "x = array([1.0, 2.0, 3.0, 4.0, 5.0])\n",
    "y = np.array([1.0, 2.0, 1.30, 3.75, 2.25])"
   ]
  },
  {
   "cell_type": "code",
   "execution_count": 51,
   "metadata": {
    "collapsed": false
   },
   "outputs": [
    {
     "data": {
      "text/plain": [
       "<matplotlib.text.Text at 0x10c79b4d0>"
      ]
     },
     "execution_count": 51,
     "metadata": {},
     "output_type": "execute_result"
    },
    {
     "data": {
      "image/png": "[encoded data removed]",
      "text/plain": [
       "<matplotlib.figure.Figure at 0x10c78bc90>"
      ]
     },
     "metadata": {},
     "output_type": "display_data"
    }
   ],
   "source": [
    "plot(x,y,'o',markersize=10)\n",
    "xlim([0.0, 6.0])\n",
    "ylim([0.0, 4.0])\n",
    "xlabel('$x$',fontsize=16)\n",
    "ylabel('$y$',fontsize=16)"
   ]
  },
  {
   "cell_type": "markdown",
   "metadata": {},
   "source": [
    "In simple linear regression, the topic of this section, the predictions of Y when plotted as a function of X form a straight line.\n",
    "Linear regression consists of finding the best-fitting straight line through the points. The best-fitting line is called a regression line. The black diagonal line in Figure 2 is the regression line and consists of the predicted score on Y for each possible value of X. The vertical lines from the points to the regression line represent the errors of prediction."
   ]
  },
  {
   "cell_type": "code",
   "execution_count": 52,
   "metadata": {
    "collapsed": false
   },
   "outputs": [
    {
     "data": {
      "image/png": "[encoded data removed]",
      "text/plain": [
       "<IPython.core.display.Image object>"
      ]
     },
     "execution_count": 52,
     "metadata": {
      "image/png": {
       "width": 400
      }
     },
     "output_type": "execute_result"
    }
   ],
   "source": [
    "# Image(url='http://onlinestatbook.com/2/regression/graphics/reg_error.gif')\n",
    "Image(filename='img/reg_error.png',width=400)"
   ]
  },
  {
   "cell_type": "markdown",
   "metadata": {},
   "source": [
    "The error of prediction for a point is the value of the point minus the predicted value (the value on the line). Table 2 shows the predicted values (Y') and the errors of prediction (Y-Y'). For example, the first point has a Y of 1.00 and a predicted Y (called Y') of 1.21. Therefore, its error of prediction is -0.21.\n",
    "\n",
    "The formula for the regression line is \n",
    "\n",
    "$$ y' = b \\cdot x + a $$\n",
    "\n",
    "Let's assume we try some values of $a,b$: \n",
    "\n",
    "$$ y' = 0.425\\, x + 0.758 $$"
   ]
  },
  {
   "cell_type": "code",
   "execution_count": 53,
   "metadata": {
    "collapsed": false
   },
   "outputs": [
    {
     "name": "stdout",
     "output_type": "stream",
     "text": [
      "y'\n",
      "[ 1.21   1.635  2.06   2.485  2.91 ]\n",
      "original y:\n",
      "[ 1.    2.    1.3   3.75  2.25]\n"
     ]
    }
   ],
   "source": [
    "b = 0.425\n",
    "a = 0.785\n",
    "\n",
    "ytag = x*b + a\n",
    "print \"y'\"\n",
    "print ytag\n",
    "print 'original y:'\n",
    "print y"
   ]
  },
  {
   "cell_type": "code",
   "execution_count": 54,
   "metadata": {
    "collapsed": false
   },
   "outputs": [
    {
     "name": "stdout",
     "output_type": "stream",
     "text": [
      "Errors:\n",
      "[ 0.21  -0.365  0.76  -1.265  0.66 ]\n"
     ]
    }
   ],
   "source": [
    "e = ytag - y\n",
    "print 'Errors:'\n",
    "print e"
   ]
  },
  {
   "cell_type": "markdown",
   "metadata": {},
   "source": [
    "### Computing the Regression Line\n",
    "\n",
    "In the age of computers, the regression line is typically computed with statistical software. However, the calculations are relatively easy, and are given here for anyone who is interested. The calculations are based on the statistics shown in Table 3. $M_x$ is the mean of $X$, $M_y$ is the mean of $Y$, $S_x$ is the standard deviation of $X$, $S_y$ is the standard deviation of $Y$, and $r$ is the correlation between $X$ and $Y$.\n",
    "\n",
    "### Formulae for standard deviations and correlation\n",
    "\n",
    "$$ S_x = \\frac{1}{N} \\sum (x-\\bar{x})^2 $$\n",
    "\n",
    "$$ S_y = \\frac{1}{N} \\sum (y-\\bar{y})^2 $$\n",
    "\n",
    "$$ R = \\frac{1}{S_x S_y} \\sum (x-\\bar{x})(y - \\bar{y}) $$\n"
   ]
  },
  {
   "cell_type": "code",
   "execution_count": 55,
   "metadata": {
    "collapsed": false
   },
   "outputs": [
    {
     "name": "stdout",
     "output_type": "stream",
     "text": [
      "3.000 2.060 1.581 1.072 0.627\n"
     ]
    }
   ],
   "source": [
    "Mx = mean(x)\n",
    "My = mean(y)\n",
    "Sx = std(x,ddof=1) # note the ddof=1 which means N-1 \n",
    "Sy = std(y,ddof=1)\n",
    "Sxy = corrcoef(x,y)\n",
    "R = Sxy[0,1] # off-diagonal is the correlation coefficient\n",
    "print '%4.3f %4.3f %4.3f %4.3f %4.3f' % (Mx,My,Sx,Sy,R)"
   ]
  },
  {
   "cell_type": "markdown",
   "metadata": {},
   "source": [
    "$$ b = R \\; Sy/Sx $$\n",
    "$$ a = \\bar{y} - b \\bar{x} $$"
   ]
  },
  {
   "cell_type": "code",
   "execution_count": 56,
   "metadata": {
    "collapsed": false
   },
   "outputs": [
    {
     "name": "stdout",
     "output_type": "stream",
     "text": [
      "b = 0.425\n",
      "a = 0.785\n"
     ]
    }
   ],
   "source": [
    "b = R*Sy/Sx; print 'b = %4.3f' % b\n",
    "a = My - b*Mx; print 'a = %4.3f'% a"
   ]
  },
  {
   "cell_type": "markdown",
   "metadata": {},
   "source": [
    "## Regression analysis\n",
    "Following the recipe of http://www.answermysearches.com/how-to-do-a-simple-linear-regression-in-python/124/"
   ]
  },
  {
   "cell_type": "code",
   "execution_count": 57,
   "metadata": {
    "collapsed": false
   },
   "outputs": [],
   "source": [
    "from math import sqrt\n",
    "def linreg(X, Y):\n",
    "    \"\"\"\n",
    "    Summary\n",
    "        Linear regression of y = ax + b\n",
    "    Usage\n",
    "        real, real, real = linreg(list, list)\n",
    "    Returns coefficients to the regression line \"y=ax+b\" from x[] and y[], and R^2 Value\n",
    "    \"\"\"\n",
    "    if len(X) != len(Y):  raise ValueError, 'unequal length'\n",
    "    N = len(X)\n",
    "    Sx = Sy = Sxx = Syy = Sxy = 0.0\n",
    "    for x, y in map(None, X, Y):\n",
    "        Sx = Sx + x\n",
    "        Sy = Sy + y\n",
    "        Sxx = Sxx + x*x\n",
    "        Syy = Syy + y*y\n",
    "        Sxy = Sxy + x*y\n",
    "    det = Sxx * N - Sx * Sx\n",
    "    a, b = (Sxy * N - Sy * Sx)/det, (Sxx * Sy - Sx * Sxy)/det\n",
    "    meanerror = residual = 0.0\n",
    "    for x, y in map(None, X, Y):\n",
    "        meanerror = meanerror + (y - Sy/N)**2\n",
    "        residual = residual + (y - a * x - b)**2\n",
    "    RR = 1 - residual/meanerror\n",
    "    ss = residual / (N-2)\n",
    "    Var_a, Var_b = ss * N / det, ss * Sxx / det\n",
    "    # print \"y=ax+b\"\n",
    "    # print \"N= %d\" % N\n",
    "    # print \"a= %g \\\\pm t_{%d;\\\\alpha/2} %g\" % (a, N-2, sqrt(Var_a))\n",
    "    # print \"b= %g \\\\pm t_{%d;\\\\alpha/2} %g\" % (b, N-2, sqrt(Var_b))\n",
    "    # print \"R^2= %g\" % RR\n",
    "    # print \"s^2= %g\" % ss\n",
    "    return a, b, RR"
   ]
  },
  {
   "cell_type": "code",
   "execution_count": 58,
   "metadata": {
    "collapsed": false
   },
   "outputs": [
    {
     "name": "stdout",
     "output_type": "stream",
     "text": [
      "0.425 0.785\n"
     ]
    }
   ],
   "source": [
    "a,b, RR = linreg(x,y)\n",
    "print a, b"
   ]
  },
  {
   "cell_type": "markdown",
   "metadata": {},
   "source": [
    "### Standardized Variables\n",
    "\n",
    "The regression equation is simpler if variables are **standardized** so that their means are equal to 0 and standard deviations are equal to 1, for then $b = r$ and $a = 0$. This makes the regression line:\n",
    "\n",
    "$$ Z_y = (R)(Z_x) $$\n",
    "\n",
    "where $Z_y = y - \\bar{y}$, $Z_x = x - \\bar{x}$, $R$ is the correlation, Note that the slope of the regression equation for standardized variables is $R$."
   ]
  },
  {
   "cell_type": "code",
   "execution_count": 59,
   "metadata": {
    "collapsed": false
   },
   "outputs": [
    {
     "data": {
      "text/plain": [
       "<matplotlib.legend.Legend at 0x10d0bdc10>"
      ]
     },
     "execution_count": 59,
     "metadata": {},
     "output_type": "execute_result"
    },
    {
     "data": {
      "image/png": "[encoded data removed]",
      "text/plain": [
       "<matplotlib.figure.Figure at 0x109c91a50>"
      ]
     },
     "metadata": {},
     "output_type": "display_data"
    }
   ],
   "source": [
    "figure(figsize=(10,8))\n",
    "plot(x,y,'o',markersize=8)\n",
    "xlim([0.0, 6.0])\n",
    "ylim([0.0, 4.0])\n",
    "xlabel('$x$',fontsize=16)\n",
    "ylabel('$y$',fontsize=16)\n",
    "plot(x,ytag,'-',lw=2)\n",
    "legend((r'$y$',r\"$y'$\"),fontsize=16)"
   ]
  },
  {
   "cell_type": "markdown",
   "metadata": {
    "collapsed": false
   },
   "source": [
    "# Estimate $a,b$ and also $\\Delta a$ and $\\Delta b$\n",
    "\n",
    "We start with the list of $N$ points $x_i,y_i$ and we assume that the errors in $\\Delta x \\ll \\Delta y$. Our goal is to minimize the sum of all the deviations, $d_i = y_i - (a x_i + b)$\n",
    "\n",
    "For that, we shall minimize the sum of square errors: $$ S^2 = \\sum\\limits_{i=1}^{N} d_i^2 = \\sum\\limits_{i=1}^{N} \\left( y_i - a x_i - b \\right)^2$$\n",
    "\n",
    "In order to find those we need to derive $S^2$ by $b$ and by $a$ and solving for zero we get two equations that provide us the minimum. The equations we get are: $$a = \\frac{1}{A}\\left(N S_{xy} - S_y S_x \\right) $$ $$b = \\frac{1}{A} \\left(S_{xx} S_{y} - S_{xy} S_x \\right) $$ \n",
    "where\n",
    "$$S_x = \\sum\\limits_{i=1}^{N} x_i $$\n",
    "$$S_y = \\sum\\limits_{i=1}^{N} y_i $$\n",
    "$$S_{xx} = \\sum\\limits_{i=1}^{N} x_i^2 $$\n",
    "$$S_{yy} = \\sum\\limits_{i=1}^{N} y_i^2 $$\n",
    "$$S_{xy} = \\sum\\limits_{i=1}^{N} x_i y_i $$\n",
    "$$A \\equiv N S_{xx} - S_x^2 $$\n",
    "\n",
    "\n",
    "Then we can measure both $a$ and $\\Delta a$: $$ \\Delta a = \\sigma_y \\sqrt{N/A} $$ $$\\Delta b = \\sigma_y \\sqrt{S_{xx}/A}$$\n",
    "\n",
    "and the error is $$\\Delta y = \\frac{1}{N} \\sum\\limits_{i=1}^{N} \\Delta y_i $$ and the deviation of the errors is \n",
    "$$ \\sigma_y = \\sqrt{\\frac{1}{N-2}\\sum d_i^2} = $$ \n",
    "$$ = \\sqrt{\\frac{1}{N-2}\\left(S_{yy} + a^2 S_{xx} +Nb^2 - 2aS_{xy} -2bS_{y} + 2abS_x \\right) }$$"
   ]
  },
  {
   "cell_type": "markdown",
   "metadata": {},
   "source": [
    "### Example"
   ]
  },
  {
   "cell_type": "code",
   "execution_count": 60,
   "metadata": {
    "collapsed": false
   },
   "outputs": [
    {
     "name": "stdout",
     "output_type": "stream",
     "text": [
      "[  2.   3.   4.   5.   6.   7.   8.   9.  10.] [ 14.5  16.   18.5  20.   22.5  24.5  26.   27.   29. ]\n"
     ]
    }
   ],
   "source": [
    "import numpy as np\n",
    "x = np.arange(2.,11.)\n",
    "y = np.array([14.5, 16.0, 18.5, 20.0, 22.5, 24.5, 26.0, 27.0, 29.0])\n",
    "print x,y"
   ]
  },
  {
   "cell_type": "markdown",
   "metadata": {},
   "source": [
    "### let's assume $\\Delta x = 0$, $\\Delta y = 0.2$"
   ]
  },
  {
   "cell_type": "code",
   "execution_count": 61,
   "metadata": {
    "collapsed": false
   },
   "outputs": [],
   "source": [
    "\n",
    "\n",
    "Sx = np.sum(x)\n",
    "Sy = np.sum(y)\n",
    "Sxx = np.sum(x**2)\n",
    "Syy = np.sum(y**2)\n",
    "Sxy = np.sum(x*y)\n",
    "N = x.size\n",
    "A = N*Sxx - Sx**2"
   ]
  },
  {
   "cell_type": "code",
   "execution_count": 78,
   "metadata": {
    "collapsed": false
   },
   "outputs": [
    {
     "name": "stdout",
     "output_type": "stream",
     "text": [
      "a,b = 1.84,10.95\n"
     ]
    }
   ],
   "source": [
    "a = 1./A*(N*Sxy - Sy*Sx)\n",
    "b = 1./A*(Sxx*Sy - Sxy*Sx)\n",
    "print 'a,b = %3.2f,%3.2f' % (a,b)"
   ]
  },
  {
   "cell_type": "code",
   "execution_count": 74,
   "metadata": {
    "collapsed": true
   },
   "outputs": [],
   "source": [
    "d = (y - (a*x + b))"
   ]
  },
  {
   "cell_type": "code",
   "execution_count": 75,
   "metadata": {
    "collapsed": false
   },
   "outputs": [
    {
     "data": {
      "text/plain": [
       "[<matplotlib.lines.Line2D at 0x10d82f150>,\n",
       " <matplotlib.lines.Line2D at 0x10d82f250>]"
      ]
     },
     "execution_count": 75,
     "metadata": {},
     "output_type": "execute_result"
    },
    {
     "data": {
      "image/png": "[encoded data removed]",
      "text/plain": [
       "<matplotlib.figure.Figure at 0x10c78b450>"
      ]
     },
     "metadata": {},
     "output_type": "display_data"
    }
   ],
   "source": [
    "pl.plot(x,y,'o',x,a*x+b,'--')"
   ]
  },
  {
   "cell_type": "code",
   "execution_count": 79,
   "metadata": {
    "collapsed": false
   },
   "outputs": [
    {
     "name": "stdout",
     "output_type": "stream",
     "text": [
      "sigma_y = 0.462\n"
     ]
    }
   ],
   "source": [
    "sigma = np.sqrt((1./(N-2)*np.sum(d**2)))\n",
    "print 'sigma_y = %4.3f' % sigma"
   ]
  },
  {
   "cell_type": "code",
   "execution_count": 81,
   "metadata": {
    "collapsed": false
   },
   "outputs": [
    {
     "name": "stdout",
     "output_type": "stream",
     "text": [
      "\\Delta a = 0.060\n",
      "\\Delta b = 0.390\n"
     ]
    }
   ],
   "source": [
    "delta_y = 0.2\n",
    "delta_a = sigma * np.sqrt(N/A); print '\\Delta a = %4.3f' % delta_a\n",
    "delta_b = sigma * np.sqrt(Sxx/A); print '\\Delta b = %4.3f' % delta_b"
   ]
  },
  {
   "cell_type": "markdown",
   "metadata": {},
   "source": [
    "### Final result is:\n",
    "\n",
    "$$ a = 1.84 \\pm 0.06 $$ \n",
    "$$ b = 10.95 \\pm 0.46 $$"
   ]
  },
  {
   "cell_type": "code",
   "execution_count": null,
   "metadata": {
    "collapsed": true
   },
   "outputs": [],
   "source": []
  }
 ],
 "metadata": {
  "kernelspec": {
   "display_name": "Python 2",
   "language": "python",
   "name": "python2"
  },
  "language_info": {
   "codemirror_mode": {
    "name": "ipython",
    "version": 2
   },
   "file_extension": ".py",
   "mimetype": "text/x-python",
   "name": "python",
   "nbconvert_exporter": "python",
   "pygments_lexer": "ipython2",
   "version": "2.7.11"
  }
 },
 "nbformat": 4,
 "nbformat_minor": 0
}
