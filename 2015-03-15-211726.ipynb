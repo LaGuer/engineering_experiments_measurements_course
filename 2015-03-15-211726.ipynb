{
 "metadata": {
  "name": "",
  "signature": "sha256:e7dc16fabc598a486fb6e1de1f52719bf0ce8ded76443a206d338473bdc8496e"
 },
 "nbformat": 3,
 "nbformat_minor": 0,
 "worksheets": [
  {
   "cells": [
    {
     "cell_type": "code",
     "collapsed": false,
     "input": [
      "from random import random\n",
      "\n",
      "c = []\n",
      "w = []\n",
      "T = []\n",
      "k = random()*0.05\n",
      "b = random()*0.002\n",
      "\n",
      "for i in range(6):\n",
      "    c.append(random()*55)\n",
      "    w.append(random()*10)\n",
      "\n",
      "c.sort()\n",
      "\n",
      "print 'c=',c\n",
      "\n",
      "T = []\n",
      "for i in range(6):\n",
      "    T.append(100*10**(-(c[i]*k + b))+ w[i])\n",
      "\n",
      "\n",
      "print 'T=',T"
     ],
     "language": "python",
     "metadata": {},
     "outputs": [
      {
       "output_type": "stream",
       "stream": "stdout",
       "text": [
        "c= [0.29915921513761323, 14.273645986125398, 15.534010905392003, 19.051286999882983, 34.66582044329526, 42.61401437569538]\n",
        "T= [99.9951391032247, 47.691360311694986, 48.07790171391506, 34.83985223479376, 15.155034415619781, 17.88946755066774]\n"
       ]
      }
     ],
     "prompt_number": 1
    },
    {
     "cell_type": "code",
     "collapsed": false,
     "input": [
      "import matplotlib.pyplot as plt\n",
      "plt.plot(c,T,'o',markersize=10)\n",
      "plt.xlabel('c',fontsize=14)\n",
      "plt.ylabel('T',fontsize=14)"
     ],
     "language": "python",
     "metadata": {},
     "outputs": []
    },
    {
     "cell_type": "code",
     "collapsed": false,
     "input": [],
     "language": "python",
     "metadata": {},
     "outputs": []
    }
   ],
   "metadata": {}
  }
 ]
}