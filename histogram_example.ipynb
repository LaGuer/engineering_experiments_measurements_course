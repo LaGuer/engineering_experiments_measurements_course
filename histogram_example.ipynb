{
 "metadata": {
  "name": "",
  "signature": "sha256:3cb1d0c20c98b6fdae70b1660d9e84ea6785caac14215bc3af01602d1c8ea6b3"
 },
 "nbformat": 3,
 "nbformat_minor": 0,
 "worksheets": [
  {
   "cells": [
    {
     "cell_type": "markdown",
     "metadata": {},
     "source": [
      "\n",
      "\n",
      "\n",
      "\n",
      "\n",
      "\n",
      "\n"
     ]
    },
    {
     "cell_type": "markdown",
     "metadata": {},
     "source": [
      "# Another histogram example\n",
      "### smaller sample, then larger sample"
     ]
    },
    {
     "cell_type": "code",
     "collapsed": false,
     "input": [
      "%pylab inline"
     ],
     "language": "python",
     "metadata": {},
     "outputs": [
      {
       "output_type": "stream",
       "stream": "stdout",
       "text": [
        "Populating the interactive namespace from numpy and matplotlib\n"
       ]
      }
     ],
     "prompt_number": 1
    },
    {
     "cell_type": "code",
     "collapsed": false,
     "input": [
      "x = array([1.1,1.2,0.95,1.04,1.06,0.95,0.97,1.03,1.01, 0.94,0.99,1.02,1.03,0.97,1.08,1.11,1.01,0.99])"
     ],
     "language": "python",
     "metadata": {},
     "outputs": [],
     "prompt_number": 2
    },
    {
     "cell_type": "code",
     "collapsed": false,
     "input": [
      "plot(x,'o')\n",
      "xlim([-1.,20])\n",
      "ylim([0.8,1.3])"
     ],
     "language": "python",
     "metadata": {},
     "outputs": [
      {
       "metadata": {},
       "output_type": "pyout",
       "prompt_number": 3,
       "text": [
        "(0.8, 1.3)"
       ]
      },
      {
       "metadata": {},
       "output_type": "display_data",
       "png": "[encoded data removed]",
       "text": [
        "<matplotlib.figure.Figure at 0x7f3fec2f5890>"
       ]
      }
     ],
     "prompt_number": 3
    },
    {
     "cell_type": "code",
     "collapsed": false,
     "input": [
      "average = mean(x)\n",
      "stdev = std(x)\n",
      "print average, stdev"
     ],
     "language": "python",
     "metadata": {},
     "outputs": [
      {
       "output_type": "stream",
       "stream": "stdout",
       "text": [
        "1.025 0.0647430819985\n"
       ]
      }
     ],
     "prompt_number": 4
    },
    {
     "cell_type": "code",
     "collapsed": false,
     "input": [
      "hist(x)\n",
      "title('Automatic Histogram',fontsize=16)\n",
      "xlabel('$x$',fontsize=16)\n",
      "ylabel('Frequency',fontsize=16)"
     ],
     "language": "python",
     "metadata": {},
     "outputs": [
      {
       "metadata": {},
       "output_type": "pyout",
       "prompt_number": 5,
       "text": [
        "<matplotlib.text.Text at 0x7f3fec538f10>"
       ]
      },
      {
       "metadata": {},
       "output_type": "display_data",
       "png": "[encoded data removed]",
       "text": [
        "<matplotlib.figure.Figure at 0x7f3fec571b10>"
       ]
      }
     ],
     "prompt_number": 5
    },
    {
     "cell_type": "code",
     "collapsed": false,
     "input": [
      "% Specifying the number of bins\n",
      "% Check Sturgis' rule\n",
      "J = 1 + 3.3*log10(x.shape[0])\n",
      "print J\n",
      "nbins = round(J)\n",
      "print nbins\n",
      "hist(x,nbins)\n"
     ],
     "language": "python",
     "metadata": {},
     "outputs": [
      {
       "output_type": "stream",
       "stream": "stdout",
       "text": [
        "5.14239926684\n",
        "5.0\n"
       ]
      },
      {
       "output_type": "stream",
       "stream": "stderr",
       "text": [
        "ERROR: Line magic function `%Specifying` not found.\n",
        "ERROR: Line magic function `%Check` not found.\n"
       ]
      },
      {
       "metadata": {},
       "output_type": "pyout",
       "prompt_number": 6,
       "text": [
        "(array([ 7.,  6.,  2.,  2.,  1.]),\n",
        " array([ 0.94 ,  0.992,  1.044,  1.096,  1.148,  1.2  ]),\n",
        " <a list of 5 Patch objects>)"
       ]
      },
      {
       "metadata": {},
       "output_type": "display_data",
       "png": "[encoded data removed]",
       "text": [
        "<matplotlib.figure.Figure at 0x7f3ff8144910>"
       ]
      }
     ],
     "prompt_number": 6
    },
    {
     "cell_type": "code",
     "collapsed": false,
     "input": [
      "nbins = 6\n",
      "left_edge = 0.90\n",
      "bin_width = 0.05\n",
      "right_edge = left_edge + nbins*bin_width\n",
      "\n",
      "nbins = nbins + 2 # Add bins for x <= left_edge and x > right_edge\n",
      "bin_centers = arange(left_edge - 0.5*bin_width,right_edge + 0.5*bin_width,bin_width)\n",
      "hist(x,bin_centers)\n",
      "\n",
      "xmin = left_edge - bin_width\n",
      "xmax = right_edge + bin_width\n",
      "xlim([xmin,xmax])\n",
      "# ylim([0, max(n3)+1])"
     ],
     "language": "python",
     "metadata": {},
     "outputs": [
      {
       "metadata": {},
       "output_type": "pyout",
       "prompt_number": 7,
       "text": [
        "(0.85, 1.2500000000000002)"
       ]
      },
      {
       "metadata": {},
       "output_type": "display_data",
       "png": "[encoded data removed]",
       "text": [
        "<matplotlib.figure.Figure at 0x7f3fec43a5d0>"
       ]
      }
     ],
     "prompt_number": 7
    },
    {
     "cell_type": "code",
     "collapsed": false,
     "input": [
      "import StringIO\n",
      "output = StringIO.StringIO(\"\"\"\n",
      "23.70\n",
      "23.41\n",
      "23.87\n",
      "24.18\n",
      "24.15\n",
      "24.31\n",
      "23.14\n",
      "23.72\n",
      "24.12\n",
      "23.47\n",
      "23.59\n",
      "23.29\n",
      "23.24\n",
      "23.50\n",
      "23.56\n",
      "23.16\n",
      "23.62\n",
      "23.67\n",
      "23.84\n",
      "23.69\n",
      "23.70\n",
      "23.68\n",
      "24.20\n",
      "23.77\n",
      "23.74\n",
      "23.64\n",
      "24.39\n",
      "24.05\n",
      "24.51\n",
      "23.60\n",
      "24.29\n",
      "23.31\n",
      "23.96\n",
      "24.07\n",
      "24.37\n",
      "23.77\n",
      "23.64\n",
      "24.00\n",
      "23.68\n",
      "24.02\n",
      "23.36\n",
      "23.54\n",
      "23.34\n",
      "23.69\n",
      "23.79\n",
      "23.80\n",
      "23.70\n",
      "24.45\n",
      "23.27\n",
      "23.57\n",
      "23.02\n",
      "24.23\n",
      "23.41\n",
      "23.60\n",
      "24.02\n",
      "23.94\n",
      "24.06\n",
      "23.97\n",
      "23.38\n",
      "23.46\n",
      "24.00\n",
      "23.89\n",
      "23.51\n",
      "23.72\n",
      "23.83\n",
      "23.96\n",
      "23.84\n",
      "23.52\n",
      "24.36\n",
      "23.94\n",
      "23.82\n",
      "24.04\n",
      "24.05\n",
      "23.60\n",
      "23.52\n",
      "24.13\n",
      "23.43\n",
      "23.33\n",
      "24.01\n",
      "23.99\n",
      "24.46\n",
      "24.23\n",
      "24.19\n",
      "23.83\n",
      "23.80\n",
      "23.93\n",
      "23.79\n",
      "23.48\n",
      "23.26\n",
      "24.04\n",
      "23.93\n",
      "23.98\n",
      "23.86\n",
      "23.49\n",
      "24.17\n",
      "23.70\n",
      "23.54\n",
      "23.55\n",
      "23.67\n",
      "23.66\n",
      "\"\"\")\n",
      "x = np.loadtxt(output)"
     ],
     "language": "python",
     "metadata": {},
     "outputs": [],
     "prompt_number": 16
    },
    {
     "cell_type": "code",
     "collapsed": false,
     "input": [
      "plot(x,'o')"
     ],
     "language": "python",
     "metadata": {},
     "outputs": [
      {
       "metadata": {},
       "output_type": "pyout",
       "prompt_number": 17,
       "text": [
        "[<matplotlib.lines.Line2D at 0x7f3fec36bd90>]"
       ]
      },
      {
       "metadata": {},
       "output_type": "display_data",
       "png": "[encoded data removed]",
       "text": [
        "<matplotlib.figure.Figure at 0x7f3ff80fef10>"
       ]
      }
     ],
     "prompt_number": 17
    },
    {
     "cell_type": "code",
     "collapsed": false,
     "input": [
      "J = 1 + 3.3*log10(x.shape[0])\n",
      "nbins = round(J)+2\n",
      "hist(x,nbins)"
     ],
     "language": "python",
     "metadata": {},
     "outputs": [
      {
       "metadata": {},
       "output_type": "pyout",
       "prompt_number": 19,
       "text": [
        "(array([  3.,   5.,   8.,  16.,  17.,  14.,  19.,   8.,   5.,   5.]),\n",
        " array([ 23.02 ,  23.169,  23.318,  23.467,  23.616,  23.765,  23.914,\n",
        "         24.063,  24.212,  24.361,  24.51 ]),\n",
        " <a list of 10 Patch objects>)"
       ]
      },
      {
       "metadata": {},
       "output_type": "display_data",
       "png": "[encoded data removed]",
       "text": [
        "<matplotlib.figure.Figure at 0x7f3fec3cfc50>"
       ]
      }
     ],
     "prompt_number": 19
    },
    {
     "cell_type": "code",
     "collapsed": false,
     "input": [
      "from scipy.stats import norm\n",
      "(mu, sigma) = norm.fit(x)"
     ],
     "language": "python",
     "metadata": {},
     "outputs": [],
     "prompt_number": 23
    },
    {
     "cell_type": "code",
     "collapsed": false,
     "input": [
      "print mu, sigma"
     ],
     "language": "python",
     "metadata": {},
     "outputs": [
      {
       "output_type": "stream",
       "stream": "stdout",
       "text": [
        "23.7827 0.324335798209\n"
       ]
      }
     ],
     "prompt_number": 24
    },
    {
     "cell_type": "code",
     "collapsed": false,
     "input": [
      "n, bins, patches = hist(x, nbins, normed=1, facecolor='green', alpha=0.75)\n",
      "y = normpdf( bins, mu, sigma)\n",
      "l = plot(bins, y, 'r--', linewidth=2)"
     ],
     "language": "python",
     "metadata": {},
     "outputs": [
      {
       "metadata": {},
       "output_type": "display_data",
       "png": "[encoded data removed]",
       "text": [
        "<matplotlib.figure.Figure at 0x7f3fdd8297d0>"
       ]
      }
     ],
     "prompt_number": 35
    },
    {
     "cell_type": "code",
     "collapsed": false,
     "input": [
      "# more bins is not better\n",
      "n, bins, patches = hist(x, 50, normed=1, facecolor='green', alpha=0.75)\n",
      "y = normpdf( bins, mu, sigma)\n",
      "l = plot(bins, y, 'r--', linewidth=2)"
     ],
     "language": "python",
     "metadata": {},
     "outputs": [
      {
       "metadata": {},
       "output_type": "display_data",
       "png": "[encoded data removed]",
       "text": [
        "<matplotlib.figure.Figure at 0x7f3fde4fa3d0>"
       ]
      }
     ],
     "prompt_number": 37
    },
    {
     "cell_type": "code",
     "collapsed": false,
     "input": [],
     "language": "python",
     "metadata": {},
     "outputs": [],
     "prompt_number": 34
    },
    {
     "cell_type": "code",
     "collapsed": false,
     "input": [],
     "language": "python",
     "metadata": {},
     "outputs": []
    }
   ],
   "metadata": {}
  }
 ]
}